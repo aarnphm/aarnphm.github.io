{
 "cells": [
  {
   "cell_type": "code",
   "execution_count": 1,
   "id": "b476dc53-ef1e-4216-9363-b01e4b2277e5",
   "metadata": {},
   "outputs": [],
   "source": [
    "%%capture\n",
    "!uv pip install tbcontrol"
   ]
  },
  {
   "cell_type": "code",
   "execution_count": 2,
   "id": "e8375a5e",
   "metadata": {},
   "outputs": [],
   "source": [
    "import numpy as np\n",
    "import sympy as sp\n",
    "from sympy import symbols, apart, inverse_laplace_transform, simplify\n",
    "from sympy import expand, apart, lcm, together, solve, Poly, Matrix\n",
    "from sympy.abc import s, t\n",
    "from scipy.signal import TransferFunction, step as sci_step, StateSpace\n",
    "from scipy.optimize import fsolve\n",
    "from tbcontrol.symbolic import routh"
   ]
  },
  {
   "cell_type": "code",
   "execution_count": 3,
   "id": "30598794",
   "metadata": {},
   "outputs": [],
   "source": [
    "K_p = symbols(\"K_p\")\n",
    "K_d = symbols(\"K_d\")\n",
    "K_i = symbols(\"K_i\")"
   ]
  },
  {
   "cell_type": "code",
   "execution_count": null,
   "id": "8fb765f7",
   "metadata": {},
   "outputs": [],
   "source": []
  },
  {
   "cell_type": "code",
   "execution_count": 4,
   "id": "dd0eea19",
   "metadata": {},
   "outputs": [
    {
     "data": {
      "text/plain": [
       "[0, K_v]"
      ]
     },
     "execution_count": 4,
     "metadata": {},
     "output_type": "execute_result"
    }
   ],
   "source": [
    "# q1\n",
    "K, K_v = symbols(\"K K_v\")\n",
    "G_s = (2 * K / s) * ((1/s) / (1-K_v/s))\n",
    "# Define the equation for the poles\n",
    "equation = s**2 - K_v*s\n",
    "\n",
    "# Solve the equation for s\n",
    "poles = solve(equation, s)\n",
    "poles"
   ]
  },
  {
   "cell_type": "code",
   "execution_count": 5,
   "id": "a57cfd86",
   "metadata": {},
   "outputs": [],
   "source": [
    "OS = 0.2"
   ]
  },
  {
   "cell_type": "code",
   "execution_count": 6,
   "id": "f71d5ac0",
   "metadata": {},
   "outputs": [
    {
     "data": {
      "text/latex": [
       "$\\displaystyle - \\frac{11 t e^{- 5 t} \\theta\\left(t\\right)}{15} - \\frac{3 \\theta\\left(t\\right)}{25} + \\frac{4 e^{- 2 t} \\theta\\left(t\\right)}{9} - \\frac{73 e^{- 5 t} \\theta\\left(t\\right)}{225}$"
      ],
      "text/plain": [
       "-11*t*exp(-5*t)*Heaviside(t)/15 - 3*Heaviside(t)/25 + 4*exp(-2*t)*Heaviside(t)/9 - 73*exp(-5*t)*Heaviside(t)/225"
      ]
     },
     "execution_count": 6,
     "metadata": {},
     "output_type": "execute_result"
    }
   ],
   "source": [
    "# q2\n",
    "\n",
    "G_s = (s-6)/((s+2)*(s+5)**2)\n",
    "L_input = 1/s\n",
    "Y_s = G_s*L_input\n",
    "Y_s_apart = apart(Y_s)\n",
    "output_time_domain = inverse_laplace_transform(Y_s_apart, s, t)\n",
    "output_time_domain"
   ]
  },
  {
   "cell_type": "code",
   "execution_count": null,
   "id": "7211acc5",
   "metadata": {},
   "outputs": [],
   "source": []
  },
  {
   "cell_type": "code",
   "execution_count": null,
   "id": "a82aafa9",
   "metadata": {},
   "outputs": [],
   "source": [
    "# q3"
   ]
  },
  {
   "cell_type": "code",
   "execution_count": null,
   "id": "be3c097c",
   "metadata": {},
   "outputs": [],
   "source": [
    "# q4"
   ]
  },
  {
   "cell_type": "code",
   "execution_count": null,
   "id": "c799b6dc",
   "metadata": {},
   "outputs": [],
   "source": [
    "# q5"
   ]
  },
  {
   "cell_type": "code",
   "execution_count": null,
   "id": "6dbaf017",
   "metadata": {},
   "outputs": [],
   "source": [
    "# q6\n",
    "A = np.array([[1, 1, 1], [0, 1, 1], [3, -2, 4]])\n",
    "B = np.array([[1], [0], [1]])\n",
    "C = np.array([[4, 5, 2]])\n",
    "D = np.array([[0]])\n",
    "\n",
    "# Calculate poles and zeros\n",
    "system = StateSpace(A, B, C, D)\n",
    "poles = system.poles\n",
    "zeros = system.zeros\n",
    "zeros, poles"
   ]
  },
  {
   "cell_type": "code",
   "execution_count": null,
   "id": "e8ba4664",
   "metadata": {},
   "outputs": [],
   "source": []
  },
  {
   "cell_type": "code",
   "execution_count": null,
   "id": "f47a925b",
   "metadata": {},
   "outputs": [],
   "source": [
    "def q10_prac():\n",
    "  K_p = symbols(\"K_p\")\n",
    "  G_s = 5/((s+1)**2)\n",
    "  G_PID_s = K_p * (1 + 5/s + 0.2*s)\n",
    "  open_loop = G_s * G_PID_s\n",
    "  char_eq = 1 + open_loop\n",
    "  expanded = char_eq.expand().collect(s)\n",
    "  char_poly = Poly(expanded, s)\n",
    "  coeffs = char_poly.all_coeffs()\n",
    "\n",
    "  return [solve(it, K_p) for i, it in enumerate(coeffs)]\n"
   ]
  }
 ],
 "metadata": {
  "kernelspec": {
   "display_name": "Python 3 (ipykernel)",
   "language": "python",
   "name": "python3"
  },
  "language_info": {
   "codemirror_mode": {
    "name": "ipython",
    "version": 3
   },
   "file_extension": ".py",
   "mimetype": "text/x-python",
   "name": "python",
   "nbconvert_exporter": "python",
   "pygments_lexer": "ipython3",
   "version": "3.12.6"
  }
 },
 "nbformat": 4,
 "nbformat_minor": 5
}
