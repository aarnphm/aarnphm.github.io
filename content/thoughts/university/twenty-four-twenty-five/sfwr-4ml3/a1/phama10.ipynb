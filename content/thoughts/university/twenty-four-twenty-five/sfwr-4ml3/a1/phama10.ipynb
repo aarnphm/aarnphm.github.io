{
 "cells": [
  {
   "cell_type": "markdown",
   "metadata": {
    "id": "Mug_cKdlFtiG"
   },
   "source": [
    "# Assignment 1 - Coding Section\n",
    "\n",
    "Follow the codes, comments and the explanations. There are 3 problems in total which are worth 70 points. You are going to add your code in this notebook.\n",
    "\n",
    "For this assignment, we will create a dataset consisting of black-and-white images of circles. The task is to estimate the radius and location of the ball based on the image using various Least Squares techniques.\n",
    "\n",
    "\n",
    "---\n",
    "\n",
    "\n",
    "***Important Note:***\n",
    "\n",
    "You need to write your report, including the results, plots, and analyses/discussion, in a PDF file. Submit this PDF file along with your theory solutions. Additionally, upload your Jupyter notebook (.ipynb) file alongside the PDF.\n",
    "\n",
    "\n",
    "\n",
    "\n",
    "\n"
   ]
  },
  {
   "cell_type": "markdown",
   "metadata": {
    "id": "d532ZIBzKDkM"
   },
   "source": [
    "# Section One: Dataset"
   ]
  },
  {
   "cell_type": "markdown",
   "metadata": {
    "id": "e85Fn5yDoycd"
   },
   "source": [
    "## Importing necessary libraries\n",
    "\n",
    "\n"
   ]
  },
  {
   "cell_type": "code",
   "execution_count": 1,
   "metadata": {
    "id": "oWZ3u-ZK2l-F"
   },
   "outputs": [],
   "source": [
    "import numpy as np, pandas as pd, cv2, random, matplotlib.pyplot as plt\n",
    "from PIL import Image, ImageDraw\n",
    "from sklearn.model_selection import train_test_split"
   ]
  },
  {
   "cell_type": "markdown",
   "metadata": {
    "id": "15p39AfEpKGi"
   },
   "source": [
    "## Parameters"
   ]
  },
  {
   "cell_type": "code",
   "execution_count": 3,
   "metadata": {
    "id": "_SIkZcT_26gZ"
   },
   "outputs": [],
   "source": [
    "image_size = 30  # Size of the generated images (30x30 pixels)\n",
    "min_radius = 3  # Minimum circle radius in pixels\n",
    "max_radius = image_size // 2 - 2  # Maximum circle radius, ensuring circles fit within the image\n",
    "total_size = 2200  # Total number of images to generate\n",
    "noise_level = 0.8  # Noise level to add to the images\n",
    "\n",
    "csv_filename = 'generated_images_masks.csv'  # Filename for saving the generated data as a CSV"
   ]
  },
  {
   "cell_type": "markdown",
   "metadata": {
    "id": "A-GUqd-fO4m4"
   },
   "source": [
    "## Generating the Dataset\n",
    "\n",
    "This code generates a synthetic dataset of binary images with circular objects embedded within them.\n",
    "\n",
    "- **Image Size**: Each generated image is 30x30 pixels.\n",
    "- **Circle Properties**:\n",
    "  - **Radius**: Randomly chosen between 3 and 13 pixels (ensuring the circle fits within the image boundaries).\n",
    "  - **Position**: The center of the circle is randomly positioned within the image while ensuring the circle remains fully inside the image boundaries.\n",
    "- **Noise Level**: Random noise is added to each image, controlled by a `noise_level` parameter (default is 0.8).\n",
    "- **Total Images**: A total of 2,200 images are generated.\n",
    "- **Metadata**: Each image is accompanied by metadata, including the circle's radius and its center coordinates `(x, y)`.\n",
    "\n",
    "The dataset is saved as a CSV file named `generated_images_masks.csv`, where each row corresponds to a single image, with the first three columns representing the metadata (`radius`, `x`, `y`) and the remaining columns representing the flattened pixel values of the binary image.\n",
    "\n",
    "\n",
    "\n",
    "\n",
    "### Dataset Dimensions\n",
    "\n",
    "- **Feature Dimensions**: The dataset includes 900 pixel values per image. These pixel values are flattened into a 1D array to create the feature set for each image.\n",
    "- **Target Variables**: The target variables in the dataset are the circle's radius (`radius`) and its center coordinates (`x`, `y`).\n",
    "- **Overall Dataset Dimensions**: The resulting dataset has 2,200 rows (one for each image) and 903 columns (3 columns for metadata: `radius`, `x`, `y`, and 900 columns for the pixel values).\n"
   ]
  },
  {
   "cell_type": "code",
   "execution_count": 4,
   "metadata": {
    "id": "X6fYr-yr7aRa"
   },
   "outputs": [],
   "source": [
    "def generate_image_with_metadata(image_size, radius, x, y, noise_level=0.8):\n",
    "  \"\"\"\n",
    "  Generate a binary mask with a circle, add random noise, attach metadata (radius, x, y), and return the flattened mask.\n",
    "\n",
    "  noise_level: Controls the amount of random noise added (default is 0.8).\n",
    "  \"\"\"\n",
    "  # Create a black background image\n",
    "  img = Image.new('1', (image_size, image_size), color=0)\n",
    "  draw = ImageDraw.Draw(img)\n",
    "\n",
    "  # Draw the circle on the binary mask\n",
    "  draw.ellipse((x - radius, y - radius, x + radius, y + radius), fill=1)\n",
    "\n",
    "  # Add random noise to the image\n",
    "  noise = np.random.rand(image_size, image_size) > noise_level  # Generate random noise\n",
    "  noisy_mask = np.logical_and(img, noise).astype(np.float32)  # Apply noise to the mask\n",
    "\n",
    "  # Flatten the noisy mask into a 1D array\n",
    "  flattened_mask = noisy_mask.flatten()\n",
    "\n",
    "  # Store the metadata (radius, x, y)\n",
    "  metadata = [radius, x, y]\n",
    "\n",
    "  # Combine metadata with the binary mask\n",
    "  return np.array(metadata + flattened_mask.tolist())\n",
    "\n",
    "\n",
    "def generate_images_with_masks(total_size, image_size, min_radius, max_radius):\n",
    "  \"\"\"\n",
    "  Generate multiple images with masks by calling the image generation function.\n",
    "  \"\"\"\n",
    "  data = []  # List to store masks and metadata\n",
    "\n",
    "  for _ in range(total_size):\n",
    "    # Randomly choose the radius and center (x, y)\n",
    "    radius = random.randint(min_radius, max_radius)\n",
    "    x = random.randint(radius + 1, image_size - radius - 1)\n",
    "    y = random.randint(radius + 1, image_size - radius - 1)\n",
    "\n",
    "    # Generate a single image with mask and metadata\n",
    "    single_image_data = generate_image_with_metadata(image_size, radius, x, y, noise_level)\n",
    "    data.append(single_image_data)\n",
    "\n",
    "  return np.array(data)"
   ]
  },
  {
   "cell_type": "code",
   "execution_count": 5,
   "metadata": {
    "id": "lEa8xXOH8dHu"
   },
   "outputs": [
    {
     "name": "stdout",
     "output_type": "stream",
     "text": [
      "Data saved to generated_images_masks.csv\n"
     ]
    }
   ],
   "source": [
    "# Generate images with masks (returns a dataset including radius, x, y, and pixel values)\n",
    "data = generate_images_with_masks(total_size, image_size, min_radius, max_radius)\n",
    "\n",
    "# Define column names for the DataFrame: radius, x, y, and pixel values\n",
    "columns = ['radius', 'x', 'y'] + [f'Pixel_{i}' for i in range(image_size * image_size)]\n",
    "\n",
    "# Create a DataFrame from the generated data with the specified columns\n",
    "df = pd.DataFrame(data, columns=columns)\n",
    "\n",
    "# Save the DataFrame to a CSV file without including the index\n",
    "df.to_csv(csv_filename, index=False)\n",
    "\n",
    "# Notify the user that the data has been saved to the specified CSV file\n",
    "print(f'Data saved to {csv_filename}')"
   ]
  },
  {
   "cell_type": "markdown",
   "metadata": {
    "id": "Dj_3uhbJPODa"
   },
   "source": [
    "## Visual Exploration of Sample Data Points\n"
   ]
  },
  {
   "cell_type": "code",
   "execution_count": 6,
   "metadata": {
    "id": "2Y0ZCLfY9SZz"
   },
   "outputs": [],
   "source": [
    "# Function to visualize the image\n",
    "def visualize(image_data, image_size):\n",
    "  \"\"\"\n",
    "  Visualize the image given an array of image data and return the plot object.\n",
    "\n",
    "  Parameters:\n",
    "  - image_data: A NumPy array containing image metadata and mask.\n",
    "  - image_size: The size of the image (width and height, assumed square).\n",
    "\n",
    "  Returns:\n",
    "  - fig, ax: The matplotlib figure and axes objects for further modification.\n",
    "  \"\"\"\n",
    "  # Extract metadata from the array (radius and circle center coordinates)\n",
    "  radius = int(image_data[0])\n",
    "  x = int(image_data[1])\n",
    "  y = int(image_data[2])\n",
    "\n",
    "  # Extract the binary mask from the remaining part of the array\n",
    "  mask = image_data[3:].astype(np.uint8).reshape(image_size, image_size)\n",
    "\n",
    "  # Create a grayscale image from the mask\n",
    "  img = np.zeros((image_size, image_size), dtype=np.uint8)  # Initialize the image with zeros (black)\n",
    "  img[mask == 1] = 255  # Set the circle area to white (255)\n",
    "\n",
    "  # Create a figure and axis for plotting\n",
    "  fig, ax = plt.subplots()\n",
    "  ax.imshow(img, cmap='gray')  # Display the image in grayscale\n",
    "  ax.set_title(f'Circle at center ({x}, {y}) with radius {radius}')  # Set title with circle metadata\n",
    "  ax.axis('off')  # Turn off axis labels and ticks\n",
    "\n",
    "  # Return the figure and axis for further customization\n",
    "  return fig, ax"
   ]
  },
  {
   "cell_type": "code",
   "execution_count": 7,
   "metadata": {
    "id": "oCtB1orRcubo"
   },
   "outputs": [
    {
     "name": "stdin",
     "output_type": "stream",
     "text": [
      "Enter the image index:  5\n"
     ]
    },
    {
     "data": {
      "image/png": "[encoded data removed]",
      "text/plain": [
       "<Figure size 640x480 with 1 Axes>"
      ]
     },
     "metadata": {},
     "output_type": "display_data"
    }
   ],
   "source": [
    "# Read the CSV file into a DataFrame\n",
    "df = pd.read_csv(csv_filename)\n",
    "\n",
    "# Prompt the user to enter an image index and extract the corresponding row\n",
    "image_index = int(input('Enter the image index: '))\n",
    "image_data = df.iloc[image_index].values  # Get the data for the specified image index\n",
    "\n",
    "# Visualize the selected image from the DataFrame\n",
    "_, _ = visualize(image_data, image_size)  # Call the visualize function to display the image"
   ]
  },
  {
   "cell_type": "markdown",
   "metadata": {
    "id": "Ut13k8BopY9D"
   },
   "source": [
    "# Section Two: Important functions\n",
    "Including OLS Solver with MSE and Data Augmentation"
   ]
  },
  {
   "cell_type": "code",
   "execution_count": 8,
   "metadata": {
    "id": "RnzSm6NvoHH5"
   },
   "outputs": [],
   "source": [
    "# Function to solve ordinary least squares (OLS)\n",
    "def solve_ols(X_train, Y_train, X_other, alpha):\n",
    "  \"\"\"\n",
    "  Solves the OLS regression problem with regularization (RLS).\n",
    "\n",
    "  Parameters:\n",
    "  - X_train: The training input data (features).\n",
    "  - Y_train: The training output data (targets).\n",
    "  - X_other: The input data (features) for the other dataset (e.g., validation or test).\n",
    "  - alpha: Regularization parameter.\n",
    "\n",
    "  Returns:\n",
    "  - Y_LS_train: Predicted outputs for the training data.\n",
    "  - Y_LS_other: Predicted outputs for the other dataset.\n",
    "  \"\"\"\n",
    "  # Calculate the weights (W) using the pseudo-inverse and regularization\n",
    "  W = np.dot(\n",
    "    np.linalg.pinv(np.dot(X_train.T, X_train) + alpha * np.identity(np.shape(X_train)[1])), np.dot(X_train.T, Y_train)\n",
    "  )\n",
    "\n",
    "  Y_LS_train = np.dot(X_train, W)\n",
    "  Y_LS_other = np.dot(X_other, W)\n",
    "  # Return predictions for both training and other data\n",
    "  return Y_LS_train, Y_LS_other"
   ]
  },
  {
   "cell_type": "code",
   "execution_count": 9,
   "metadata": {
    "id": "8nVlcBC4hqM0"
   },
   "outputs": [],
   "source": [
    "# Function to run OLS, compute MSE, and output results and labels\n",
    "def run_ols(X_train, X_other, Y_train, Y_other, alpha, augment=False):\n",
    "  \"\"\"\n",
    "  Runs the OLS regression, computes the MSE for both training and another dataset (e.g., validation/test), and returns results.\n",
    "\n",
    "  Parameters:\n",
    "  - X_train: The training input data (features).\n",
    "  - X_other: The input data (features) for the other dataset (e.g., validation or test).\n",
    "  - Y_train: The training output data (targets).\n",
    "  - Y_other: The output data (targets) for the other dataset (e.g., validation or test).\n",
    "  - alpha: Regularization parameter (ridge regression).\n",
    "  - augment: Boolean indicating whether to augment data by adding a bias term.\n",
    "\n",
    "  Returns:\n",
    "  - mse_train: Mean squared error on the training set.\n",
    "  - mse_other: Mean squared error on the other dataset.\n",
    "  - Y_LS_train: Predicted outputs for the training data.\n",
    "  - Y_LS_other: Predicted outputs for the other dataset.\n",
    "  \"\"\"\n",
    "  if augment:\n",
    "    # Augment the data by adding a bias term (column of ones)\n",
    "    X_train = augment_data(X_train)\n",
    "    X_other = augment_data(X_other)\n",
    "\n",
    "  # Perform OLS regression to get predictions\n",
    "  Y_LS_train, Y_LS_other = solve_ols(X_train, Y_train, X_other, alpha)\n",
    "\n",
    "  # Compute MSE for train and other datasets\n",
    "  mse_train = compute_mse(Y_LS_train, Y_train)\n",
    "  mse_other = compute_mse(Y_LS_other, Y_other)\n",
    "\n",
    "  # Return the MSE and predictions\n",
    "  return mse_train, mse_other, Y_LS_train, Y_LS_other"
   ]
  },
  {
   "cell_type": "code",
   "execution_count": 10,
   "metadata": {
    "id": "Eba3gdpEhvO5"
   },
   "outputs": [],
   "source": [
    "# Function to compute mean squared error (MSE)\n",
    "def compute_mse(Y_pred, Y_true):\n",
    "  \"\"\"\n",
    "  Computes the Mean Squared Error (MSE) between predicted and true values.\n",
    "\n",
    "  Parameters:\n",
    "  - Y_pred: Predicted values.\n",
    "  - Y_true: True values.\n",
    "\n",
    "  Returns:\n",
    "  - mse: The mean squared error.\n",
    "  \"\"\"\n",
    "  mse = np.square(np.linalg.norm(Y_pred - Y_true)) / Y_true.size\n",
    "  return mse"
   ]
  },
  {
   "cell_type": "code",
   "execution_count": 11,
   "metadata": {
    "id": "i58E89zjhxnQ"
   },
   "outputs": [],
   "source": [
    "# Function to augment data by adding a bias (for non-homogeneous models)\n",
    "def augment_data(X):\n",
    "  \"\"\"\n",
    "  Augments the data by adding a bias column (column of ones).\n",
    "\n",
    "  Parameters:\n",
    "  - X: The input data to augment.\n",
    "\n",
    "  Returns:\n",
    "  - Augmented input data with an added bias column.\n",
    "  \"\"\"\n",
    "  ones_column = np.ones((X.shape[0], 1))\n",
    "  return np.concatenate((X, ones_column), axis=1)"
   ]
  },
  {
   "cell_type": "code",
   "execution_count": 12,
   "metadata": {
    "id": "E24S2BzahztE"
   },
   "outputs": [],
   "source": [
    "# Function to report true and predicted circles\n",
    "def prediction_report(true_data, predicted_data, predicted_data_aug, index):\n",
    "  \"\"\"\n",
    "  Prints a report of true and predicted circle parameters (radius and center coordinates).\n",
    "\n",
    "  Parameters:\n",
    "  - true_data: Array containing true circle parameters (radius, x, y).\n",
    "  - predicted_data: Array containing predicted circle parameters using a homogeneous model.\n",
    "  - predicted_data_aug: Array containing predicted circle parameters using a non-homogeneous model.\n",
    "  - index: Index of the circle data to report.\n",
    "\n",
    "  Outputs:\n",
    "  - Prints the true and predicted values for the selected circle.\n",
    "  \"\"\"\n",
    "  # Extract true and predicted values for the selected index\n",
    "  true_radius, true_x, true_y = true_data[index]\n",
    "  pred_radius, pred_x, pred_y = predicted_data[index]\n",
    "  augp_radius, augp_x, augp_y = predicted_data_aug[index]\n",
    "\n",
    "  # Report the true and predicted values\n",
    "  print(f'True values - Radius: {true_radius}, x: {true_x}, y: {true_y}')\n",
    "  print(f'Predicted homogeneous model values - Radius: {pred_radius:.2f}, x: {pred_x:.2f}, y: {pred_y:.2f}')\n",
    "  print(f'Predicted non-homogeneous model values - Radius: {augp_radius:.2f}, x: {augp_x:.2f}, y: {augp_y:.2f}')"
   ]
  },
  {
   "cell_type": "markdown",
   "metadata": {
    "id": "uNDegoi7I1Rp"
   },
   "source": [
    "# Section Three: Questions"
   ]
  },
  {
   "cell_type": "markdown",
   "metadata": {
    "id": "roajzvS5Ggbr"
   },
   "source": [
    "## PROBLEM 1 (20 marks): Predicting radius, x, and y using OLS"
   ]
  },
  {
   "cell_type": "code",
   "execution_count": 13,
   "metadata": {
    "id": "P8V93nfIHPJI"
   },
   "outputs": [],
   "source": [
    "# Load dataset from the CSV file\n",
    "df = pd.read_csv(csv_filename)  # Load the image data with metadata from a CSV file\n",
    "\n",
    "# Extract features by dropping the target columns ('radius', 'x', 'y')\n",
    "X = df.drop(columns=['radius', 'x', 'y']).values  # Features (only pixel data)\n",
    "\n",
    "# Extract target values (radius, x, and y)\n",
    "Y = df[['radius', 'x', 'y']].values  # Labels (radius, x, and y)"
   ]
  },
  {
   "cell_type": "markdown",
   "metadata": {
    "id": "TmQRTNYVEmYi"
   },
   "source": [
    "---\n",
    "\n",
    "---\n",
    "\n",
    "### PART 1 (10 marks):\n",
    "\n",
    "\n",
    "---\n",
    "\n",
    "---\n",
    "\n",
    "1. Divide the dataset into three parts: 1800 samples for training, 200 samples for validation, and 200 samples for testing. Perform linear OLS (without regularization) on the training samples twice—first with a homogeneous model (i.e., where the y-intercepts are zero) and then with a non-homogeneous model (allowing for a non-zero y-intercept). Report the MSE on both the training data and the validation data for each model.\n",
    "\n",
    "2. Compare the results. Which approach performs better? Why? Apply the better-performing approach to the test set and report the MSE.\n",
    "\n",
    "3. Do you observe significant overfitting in any of the cases?\n",
    "\n"
   ]
  },
  {
   "cell_type": "code",
   "execution_count": 14,
   "metadata": {},
   "outputs": [],
   "source": [
    "random_state = 42\n",
    "train_size, valid_size, test_size = 1800, 200, 200\n",
    "\n",
    "# for ridge regression, we will set to 0 for no regularization for OLS\n",
    "alpha = 0"
   ]
  },
  {
   "cell_type": "code",
   "execution_count": 15,
   "metadata": {
    "id": "xrSPPiXhurQt"
   },
   "outputs": [],
   "source": [
    "def split_dataset(X, Y, total_size, train_size, valid_size):\n",
    "  \"\"\"\n",
    "  Splits the dataset into training, validation, and test sets.\n",
    "\n",
    "  Parameters:\n",
    "  X (array-like): Feature data.\n",
    "  Y (array-like): Target data.\n",
    "  total_size: Total number of data to consider.\n",
    "  train_size: number of the data to include in the training set.\n",
    "  valid_size: number of the data to include in the validation set.\n",
    "\n",
    "  Returns:\n",
    "  X_train, X_valid, X_test, Y_train, Y_valid, Y_test: Split datasets.\n",
    "\n",
    "  \"\"\"\n",
    "  X = X[:total_size]\n",
    "  Y = Y[:total_size]\n",
    "  test_size = total_size - train_size - valid_size\n",
    "  X_train_valid, X_test, Y_train_valid, Y_test = train_test_split(X, Y, test_size=test_size, random_state=random_state)\n",
    "  X_train, X_valid, Y_train, Y_valid = train_test_split(\n",
    "    X_train_valid, Y_train_valid, test_size=valid_size, random_state=random_state\n",
    "  )\n",
    "  return X_train, X_valid, X_test, Y_train, Y_valid, Y_test"
   ]
  },
  {
   "cell_type": "code",
   "execution_count": 16,
   "metadata": {
    "id": "XbXDYykHOIkh"
   },
   "outputs": [],
   "source": [
    "# Here we use the previous function to split our dataset into three parts.\n",
    "X_train, X_valid, X_test, Y_train, Y_valid, Y_test = split_dataset(X, Y, total_size, train_size, valid_size)"
   ]
  },
  {
   "cell_type": "code",
   "execution_count": 17,
   "metadata": {
    "id": "YVVpEyqREXX8"
   },
   "outputs": [
    {
     "name": "stdout",
     "output_type": "stream",
     "text": [
      "Homogeneous Model Results:\n",
      "Training MSE: 27.5233\n",
      "Validation MSE: 79.8872\n"
     ]
    }
   ],
   "source": [
    "# Run OLS regression without adding a bias term (homogeneous model)\n",
    "mse_train_hom, mse_val_hom, Y_LS_train_hom, Y_LS_val_hom = run_ols(\n",
    "  X_train, X_valid, Y_train, Y_valid, alpha, augment=False\n",
    ")\n",
    "\n",
    "# Output the results for the homogeneous model\n",
    "print('Homogeneous Model Results:')\n",
    "print(f'Training MSE: {mse_train_hom:.4f}')\n",
    "print(f'Validation MSE: {mse_val_hom:.4f}')"
   ]
  },
  {
   "cell_type": "code",
   "execution_count": 18,
   "metadata": {
    "id": "9gADWceHOGKI"
   },
   "outputs": [
    {
     "name": "stdout",
     "output_type": "stream",
     "text": [
      "Non-Homogeneous Model Results:\n",
      "Training MSE: 2.5647\n",
      "Validation MSE: 12.2064\n"
     ]
    }
   ],
   "source": [
    "# Run OLS regression with a bias term added (non-homogeneous model)\n",
    "mse_train_nhom, mse_val_nhom, Y_LS_train_nhom, Y_LS_val_nhom = run_ols(\n",
    "  X_train, X_valid, Y_train, Y_valid, alpha, augment=True\n",
    ")\n",
    "\n",
    "# Output the results for the non-homogeneous model\n",
    "print('Non-Homogeneous Model Results:')\n",
    "print(f'Training MSE: {mse_train_nhom:.4f}')\n",
    "print(f'Validation MSE: {mse_val_nhom:.4f}')"
   ]
  },
  {
   "cell_type": "code",
   "execution_count": 19,
   "metadata": {},
   "outputs": [
    {
     "name": "stdout",
     "output_type": "stream",
     "text": [
      "Test MSE: 2.5647\n"
     ]
    }
   ],
   "source": [
    "mse_test_nhom, _, _, _ = run_ols(X_train, X_test, Y_train, Y_test, alpha, augment=True)\n",
    "\n",
    "print(f'Test MSE: {mse_test_nhom:.4f}')"
   ]
  },
  {
   "cell_type": "code",
   "execution_count": 20,
   "metadata": {},
   "outputs": [
    {
     "name": "stdout",
     "output_type": "stream",
     "text": [
      "homo ratio: 2.9025\n",
      "non-homo ratio: 4.7594\n"
     ]
    }
   ],
   "source": [
    "print(f'homo ratio: {(mse_val_hom / mse_train_hom):.4f}')\n",
    "print(f'non-homo ratio: {(mse_val_nhom / mse_train_nhom):.4f}')"
   ]
  },
  {
   "cell_type": "code",
   "execution_count": 21,
   "metadata": {},
   "outputs": [],
   "source": [
    "# In this code you can see the predictions you've made using your model.\n",
    "\n",
    "\n",
    "def get_predictions(X, Y, alpha=0, *, X_train, Y_train):\n",
    "  _, Y_pred_hom = solve_ols(X_train, Y_train, X, alpha)\n",
    "  X_aug = augment_data(X)\n",
    "  X_train_aug = augment_data(X_train)\n",
    "  _, Y_pred_nhom = solve_ols(X_train_aug, Y_train, X_aug, alpha)\n",
    "  return Y_pred_hom, Y_pred_nhom"
   ]
  },
  {
   "cell_type": "code",
   "execution_count": 22,
   "metadata": {
    "id": "ztzdrN97AzcL"
   },
   "outputs": [
    {
     "name": "stdin",
     "output_type": "stream",
     "text": [
      "Enter the index for prediction:  5\n"
     ]
    },
    {
     "name": "stdout",
     "output_type": "stream",
     "text": [
      "True values - Radius: 8.0, x: 11.0, y: 15.0\n",
      "Predicted homogeneous model values - Radius: 6.83, x: 6.31, y: 13.31\n",
      "Predicted non-homogeneous model values - Radius: 7.56, x: 9.78, y: 16.84\n"
     ]
    }
   ],
   "source": [
    "# Prompt the user to enter an index for prediction reporting\n",
    "index = int(input('Enter the index for prediction: '))\n",
    "\n",
    "# Generate and print the prediction report for the specified index\n",
    "# Use the prediction_report function and index to see your predictions\n",
    "Y_pred_hom, Y_pred_nhom = get_predictions(X_test, Y_test, alpha=alpha, X_train=X_train, Y_train=Y_train)\n",
    "if 0 <= index < len(Y_test):\n",
    "  prediction_report(Y_test, Y_pred_hom, Y_pred_nhom, index)"
   ]
  },
  {
   "cell_type": "code",
   "execution_count": 23,
   "metadata": {
    "id": "J2TUoETT6db-"
   },
   "outputs": [
    {
     "name": "stdout",
     "output_type": "stream",
     "text": [
      "OLS regression with bias term (non-homogeneous model) on test set:\n",
      "Test MSE: 2.5647\n",
      "\n",
      "R-squared values:\n",
      "Radius: -0.0826\n",
      "X-coordinate: -1.8811\n",
      "Y-coordinate: -1.9353\n",
      "\n",
      "Mean Absolute Error:\n",
      "Radius: 2.8787\n",
      "X-coordinate: 6.4406\n",
      "Y-coordinate: 6.6767\n"
     ]
    }
   ],
   "source": [
    "# Run OLS regression with a bias term added on the test set\n",
    "\n",
    "X_train_aug = augment_data(X_train)\n",
    "X_test_aug = augment_data(X_test)\n",
    "mse_test, Y_pred_test, _, _ = run_ols(X_train_aug, X_test_aug, Y_train, Y_test, alpha, augment=True)\n",
    "\n",
    "# Output the results for the better-performing approach\n",
    "print('OLS regression with bias term (non-homogeneous model) on test set:')\n",
    "print(f'Test MSE: {mse_test:.4f}')\n",
    "\n",
    "\n",
    "# Calculate R-squared for each target variable\n",
    "def r_squared(y_true, y_pred):\n",
    "  ss_total = np.sum((y_true - np.mean(y_true, axis=0)) ** 2, axis=0)\n",
    "  ss_residual = np.sum((y_true - y_pred) ** 2, axis=0)\n",
    "  return 1 - (ss_residual / ss_total)\n",
    "\n",
    "\n",
    "r_squared_values = r_squared(Y_test, Y_pred_test)\n",
    "\n",
    "print('\\nR-squared values:')\n",
    "print(f'Radius: {r_squared_values[0]:.4f}')\n",
    "print(f'X-coordinate: {r_squared_values[1]:.4f}')\n",
    "print(f'Y-coordinate: {r_squared_values[2]:.4f}')\n",
    "\n",
    "mae = np.mean(np.abs(Y_test - Y_pred_test), axis=0)\n",
    "\n",
    "print('\\nMean Absolute Error:')\n",
    "print(f'Radius: {mae[0]:.4f}')\n",
    "print(f'X-coordinate: {mae[1]:.4f}')\n",
    "print(f'Y-coordinate: {mae[2]:.4f}')"
   ]
  },
  {
   "cell_type": "markdown",
   "metadata": {
    "id": "3LemqBWFFq5G"
   },
   "source": [
    "\n",
    "\n",
    "---\n",
    "\n",
    "\n",
    "\n",
    "---\n",
    "\n",
    "\n",
    "\n",
    "### PART 2 (10 marks):\n",
    "\n",
    "\n",
    "---\n",
    "\n",
    "\n",
    "\n",
    "---\n",
    "\n",
    "\n",
    "1. Divide the dataset into three parts: 200 samples for training, 1800 samples for validation, and 200 samples for testing. Perform linear OLS (without regularization) on the training samples twice—first with a homogeneous model (i.e., where the y-intercepts are zero) and then with a non-homogeneous model (allowing for a non-zero y-intercept). Report the MSE on both the training data and the validation data for each model.\n",
    "\n",
    "2. ### Compare these results with those from the previous part. Do you observe less overfitting or more overfitting? How did you arrive at this conclusion?\n",
    "\n"
   ]
  },
  {
   "cell_type": "code",
   "execution_count": 24,
   "metadata": {
    "id": "NAUFgyKqHla4"
   },
   "outputs": [],
   "source": [
    "# Specify the number of training, validation, testing samples.\n",
    "train_size, valid_size, test_size = 200, 1800, 200\n",
    "total_size = train_size + valid_size + test_size"
   ]
  },
  {
   "cell_type": "code",
   "execution_count": 25,
   "metadata": {
    "id": "FmTeeS5fPMny"
   },
   "outputs": [],
   "source": [
    "# Here we use the split_dataset function to split our dataset into three parts.\n",
    "X_train, X_valid, X_test, Y_train, Y_valid, Y_test = split_dataset(X, Y, total_size, train_size, valid_size)"
   ]
  },
  {
   "cell_type": "code",
   "execution_count": 26,
   "metadata": {
    "id": "IXEfgyU1PXzP"
   },
   "outputs": [
    {
     "name": "stdout",
     "output_type": "stream",
     "text": [
      "Homogeneous Model Results:\n",
      "Training MSE: 0.0000\n",
      "Validation MSE: 138.5837\n"
     ]
    }
   ],
   "source": [
    "# Run OLS regression without adding a bias term (homogeneous model)\n",
    "mse_train_hom, mse_val_hom, Y_LS_train_hom, Y_LS_val_hom = run_ols(\n",
    "  X_train, X_valid, Y_train, Y_valid, alpha, augment=False\n",
    ")\n",
    "\n",
    "# Output the results for the homogeneous model\n",
    "print('Homogeneous Model Results:')\n",
    "print(f'Training MSE: {mse_train_hom:.4f}')\n",
    "print(f'Validation MSE: {mse_val_hom:.4f}')"
   ]
  },
  {
   "cell_type": "code",
   "execution_count": 27,
   "metadata": {
    "id": "qn2M609vPZ94"
   },
   "outputs": [
    {
     "name": "stdout",
     "output_type": "stream",
     "text": [
      "Non-Homogeneous Model Results:\n",
      "Training MSE: 0.0000\n",
      "Validation MSE: 12.4480\n"
     ]
    }
   ],
   "source": [
    "# Run OLS regression with a bias term added (non-homogeneous model)\n",
    "mse_train_nhom, mse_val_nhom, Y_LS_train_nhom, Y_LS_val_nhom = run_ols(\n",
    "  X_train, X_valid, Y_train, Y_valid, alpha, augment=True\n",
    ")\n",
    "\n",
    "# Output the results for the non-homogeneous model\n",
    "print('Non-Homogeneous Model Results:')\n",
    "print(f'Training MSE: {mse_train_nhom:.4f}')\n",
    "print(f'Validation MSE: {mse_val_nhom:.4f}')"
   ]
  },
  {
   "cell_type": "code",
   "execution_count": 29,
   "metadata": {
    "id": "aka2smhQ0jBo"
   },
   "outputs": [
    {
     "name": "stdin",
     "output_type": "stream",
     "text": [
      "Enter the index for prediction:  5\n"
     ]
    },
    {
     "name": "stdout",
     "output_type": "stream",
     "text": [
      "True values - Radius: 8.0, x: 11.0, y: 15.0\n",
      "Predicted homogeneous model values - Radius: 5.91, x: -1.07, y: 2.67\n",
      "Predicted non-homogeneous model values - Radius: 7.79, x: 8.94, y: 12.32\n"
     ]
    }
   ],
   "source": [
    "# In this code you can see the predictions you've made using your model.\n",
    "\n",
    "# Prompt the user to enter an index for prediction reporting\n",
    "index = int(input('Enter the index for prediction: '))\n",
    "\n",
    "# Generate and print the prediction report for the specified index\n",
    "# Use the prediction_report function and index to see your predictions\n",
    "\n",
    "Y_pred_hom, Y_pred_nhom = get_predictions(X_test, Y_test, alpha=alpha, X_train=X_train, Y_train=Y_train)\n",
    "if 0 <= index < len(Y_test):\n",
    "  prediction_report(Y_test, Y_pred_hom, Y_pred_nhom, index)"
   ]
  },
  {
   "cell_type": "code",
   "execution_count": 30,
   "metadata": {
    "id": "t8HnRa8T7uIX"
   },
   "outputs": [
    {
     "name": "stdout",
     "output_type": "stream",
     "text": [
      "OLS regression with bias term (non-homogeneous model) on test set:\n",
      "Test MSE: 0.0000\n",
      "\n",
      "R-squared values:\n",
      "Radius: -1.7235\n",
      "X-coordinate: -0.3874\n",
      "Y-coordinate: -0.4298\n",
      "\n",
      "Mean Absolute Error:\n",
      "Radius: 4.3925\n",
      "X-coordinate: 4.2203\n",
      "Y-coordinate: 4.3336\n"
     ]
    }
   ],
   "source": [
    "# Run OLS regression with a bias term added on the test set\n",
    "\n",
    "X_train_aug = augment_data(X_train)\n",
    "X_test_aug = augment_data(X_test)\n",
    "mse_test, Y_pred_test, _, _ = run_ols(X_train_aug, X_test_aug, Y_train, Y_test, alpha, augment=True)\n",
    "\n",
    "# Output the results for the better-performing approach\n",
    "print('OLS regression with bias term (non-homogeneous model) on test set:')\n",
    "print(f'Test MSE: {mse_test:.4f}')\n",
    "\n",
    "# Calculate R-squared for each target variable\n",
    "r_squared_values = r_squared(Y_test, Y_pred_test)\n",
    "\n",
    "print('\\nR-squared values:')\n",
    "print(f'Radius: {r_squared_values[0]:.4f}')\n",
    "print(f'X-coordinate: {r_squared_values[1]:.4f}')\n",
    "print(f'Y-coordinate: {r_squared_values[2]:.4f}')\n",
    "\n",
    "mae = np.mean(np.abs(Y_test - Y_pred_test), axis=0)\n",
    "\n",
    "print('\\nMean Absolute Error:')\n",
    "print(f'Radius: {mae[0]:.4f}')\n",
    "print(f'X-coordinate: {mae[1]:.4f}')\n",
    "print(f'Y-coordinate: {mae[2]:.4f}')"
   ]
  },
  {
   "cell_type": "markdown",
   "metadata": {
    "id": "cQCxA56yG7LH"
   },
   "source": [
    "## PROBLEM 2 (20 marks): Regularized Least Squares\n",
    "\n"
   ]
  },
  {
   "cell_type": "code",
   "execution_count": 31,
   "metadata": {
    "id": "LkvOHV4UHH3s"
   },
   "outputs": [],
   "source": [
    "# Load dataset from the CSV file\n",
    "df = pd.read_csv(csv_filename)  # Load the image data with metadata from a CSV file\n",
    "\n",
    "# Extract features by dropping the target columns ('radius', 'x', 'y')\n",
    "X = df.drop(columns=['radius', 'x', 'y']).values  # Features (only pixel data)\n",
    "\n",
    "# Extract target values (radius, x, and y)\n",
    "Y = df[['radius', 'x', 'y']].values  # Labels (radius, x, and y)"
   ]
  },
  {
   "cell_type": "markdown",
   "metadata": {
    "id": "40bUV0trHzgW"
   },
   "source": [
    "\n",
    "\n",
    "---\n",
    "\n",
    "\n",
    "\n",
    "---\n",
    "\n",
    "\n",
    "\n",
    "### PART 1 (15 marks):\n",
    "\n",
    "---\n",
    "\n",
    "\n",
    "\n",
    "---\n",
    "\n",
    "1. Divide the Dataset into Three Parts:\n",
    "- **Training Data**: Select **200 data points**.\n",
    "- **Validation Data**: Assign **1800 data points**.\n",
    "- **Testing Data**: Set aside the **remaining 200 data points** for testing.\n",
    "\n",
    "\n",
    "2. Run Regularized Least Squares (non-homogeneous) using 200 training data points. Choose various values of lambda within the range {exp(-2), exp(-1.5), exp(-1), …, exp(3.5), exp(4)}. This corresponds to λ values ranging from exp(-2) to exp(4) with a step size of 0.5. For each value of lambda, Run Regularized Least Squares (non-homogeneous) using 200 training data points. Compute the Training MSE and Validation MSE.\n",
    "\n",
    "\n",
    "3. Plot the Training MSE and Validation MSE as functions of lambda.\n",
    "\n",
    "\n",
    "\n",
    "\n",
    "\n",
    "* **IMPORTANT NOTE:** Use the variable name \"alpha\" for the values of the regularization parameter (previously referred to as \"lambda\") in Python code, since \"lambda\" is a reserved keyword in Python."
   ]
  },
  {
   "cell_type": "code",
   "execution_count": 32,
   "metadata": {
    "id": "YPAVI7m18Ggv"
   },
   "outputs": [],
   "source": [
    "# Specify the number of training, validation, testing samples.\n",
    "train_size, valid_size, test_size = 200, 1800, 200\n",
    "total_size = train_size + valid_size + test_size"
   ]
  },
  {
   "cell_type": "code",
   "execution_count": 33,
   "metadata": {
    "id": "SuuzU8cZ8H5w"
   },
   "outputs": [],
   "source": [
    "# Here we use the split_dataset function to split our dataset into three parts.\n",
    "X_train, X_valid, X_test, Y_train, Y_valid, Y_test = split_dataset(X, Y, total_size, train_size, valid_size)"
   ]
  },
  {
   "cell_type": "code",
   "execution_count": 34,
   "metadata": {
    "id": "B8tHdr-RHyen"
   },
   "outputs": [
    {
     "data": {
      "image/png": "[encoded data removed]",
      "text/plain": [
       "<Figure size 1000x600 with 1 Axes>"
      ]
     },
     "metadata": {},
     "output_type": "display_data"
    }
   ],
   "source": [
    "# Define a range of alpha values (regularization parameters) using an exponential scale\n",
    "alphas = np.exp(np.arange(-2, 4.5, 0.5))\n",
    "\n",
    "train_mse_list = []\n",
    "val_mse_list = []\n",
    "\n",
    "# Iterate over the range of alpha values\n",
    "for alpha in alphas:\n",
    "  # Run RLS regression with a bias term added on train and validation sets\n",
    "  mse_train, mse_val, _, _ = run_ols(X_train, X_valid, Y_train, Y_valid, alpha, augment=True)\n",
    "\n",
    "  # Store the MSE values\n",
    "  train_mse_list.append(mse_train)\n",
    "  val_mse_list.append(mse_val)\n",
    "\n",
    "\n",
    "optimal_alpha = alphas[np.argmin(val_mse_list)]\n",
    "\n",
    "# Plot the MSE for the non-homogeneous model across different alphas\n",
    "plt.figure(figsize=(10, 6))\n",
    "plt.semilogx(alphas, train_mse_list, 'b-', label='training MSE')\n",
    "plt.semilogx(alphas, val_mse_list, 'r-', label='validation MSE')\n",
    "plt.xlabel('Alpha (log scale)')\n",
    "plt.ylabel('Mean Squared Error')\n",
    "plt.title('Training and Validation MSE vs Alpha (non-homogeneous model)')\n",
    "plt.grid(True)\n",
    "\n",
    "plt.axvline(x=optimal_alpha, color='g', linestyle='--', label=f'Optional alpha  = {optimal_alpha:.4f}')\n",
    "plt.legend()\n",
    "plt.show()"
   ]
  },
  {
   "cell_type": "markdown",
   "metadata": {
    "id": "7pJ6sFasJMsp"
   },
   "source": [
    "---\n",
    "\n",
    "\n",
    "\n",
    "---\n",
    "\n",
    "\n",
    "### PART 2 (5 marks):\n",
    "\n",
    "\n",
    "---\n",
    "\n",
    "\n",
    "\n",
    "---\n",
    "\n",
    "\n",
    "\n",
    "1. What is the best value for lambda? Why?\n",
    "\n",
    "2. Use the best value of lambda to report the results on the test set."
   ]
  },
  {
   "cell_type": "code",
   "execution_count": 35,
   "metadata": {
    "id": "H00qLoDt-vjh"
   },
   "outputs": [
    {
     "name": "stdout",
     "output_type": "stream",
     "text": [
      "optimal alpha from val: 7.3891\n"
     ]
    }
   ],
   "source": [
    "# Here you find the best value of lambda\n",
    "print(f'optimal alpha from val: {alphas[np.argmin(val_mse_list)]:.4f}')"
   ]
  },
  {
   "cell_type": "code",
   "execution_count": 36,
   "metadata": {
    "id": "HKPn0yjm-6tb"
   },
   "outputs": [
    {
     "name": "stdout",
     "output_type": "stream",
     "text": [
      "OLS regression with bias term (non-homogeneous model) on test set:\n",
      "Test MSE: 1.1518\n",
      "\n",
      "R-squared values:\n",
      "Radius: -0.0030\n",
      "X-coordinate: -2.3763\n",
      "Y-coordinate: -2.4275\n",
      "\n",
      "Mean Absolute Error:\n",
      "Radius: 2.7962\n",
      "X-coordinate: 7.0633\n",
      "Y-coordinate: 7.2844\n"
     ]
    }
   ],
   "source": [
    "# Run OLS regression with a bias term added (non-homogeneous model)\n",
    "\n",
    "best_alpha = optimal_alpha\n",
    "X_train_aug = augment_data(X_train)\n",
    "X_test_aug = augment_data(X_test)\n",
    "mse_test, Y_pred_test, _, _ = run_ols(X_train_aug, X_test_aug, Y_train, Y_test, best_alpha, augment=True)\n",
    "\n",
    "# Output the results for the non-homogeneous model\n",
    "print('OLS regression with bias term (non-homogeneous model) on test set:')\n",
    "print(f'Test MSE: {mse_test:.4f}')\n",
    "\n",
    "# Calculate R-squared for each target variable\n",
    "r_squared_values = r_squared(Y_test, Y_pred_test)\n",
    "\n",
    "print('\\nR-squared values:')\n",
    "print(f'Radius: {r_squared_values[0]:.4f}')\n",
    "print(f'X-coordinate: {r_squared_values[1]:.4f}')\n",
    "print(f'Y-coordinate: {r_squared_values[2]:.4f}')\n",
    "\n",
    "mae = np.mean(np.abs(Y_test - Y_pred_test), axis=0)\n",
    "\n",
    "print('\\nMean Absolute Error:')\n",
    "print(f'Radius: {mae[0]:.4f}')\n",
    "print(f'X-coordinate: {mae[1]:.4f}')\n",
    "print(f'Y-coordinate: {mae[2]:.4f}')"
   ]
  },
  {
   "cell_type": "markdown",
   "metadata": {
    "id": "A3vjcNr0p0Q6"
   },
   "source": [
    "## PROBLEM 3 (30 marks): Preprocessing the data\n",
    "\n",
    "\n",
    "In this question, we aim to improve the results of Regularized Least Squares (RLS) while still using only 200 training points and 1800 validation points. To achieve this, we will map the data points into a new space and then run RLS. In other words, we will preprocess X_train, X_valid, and X_test to obtain new Z_train, Z_valid, and Z_test datasets, which will have the same number of points but a different number of features.\n",
    "\n",
    "**NOTE**: You will only get full mark in this question if your approach improves over the naive use of RLS we observed in the previous questions.\n"
   ]
  },
  {
   "cell_type": "markdown",
   "metadata": {
    "id": "_yrmVcW2J_fe"
   },
   "source": [
    "\n",
    "---\n",
    "---\n",
    "### PART 1 (5 marks):\n",
    "---\n",
    "---\n",
    "\n",
    " - Choose a preprocessing approach (i.e., select a mapping) that transforms the 900-dimensional data points (900 pixels) into a new space. This new space can be either lower-dimensional or higher-dimensional. Clearly explain your preprocessing approach."
   ]
  },
  {
   "cell_type": "markdown",
   "metadata": {
    "id": "uMjRrE4PJjWE"
   },
   "source": [
    "---\n",
    "---\n",
    "### PART 2 (10 marks):\n",
    "---\n",
    "---\n",
    "\n",
    "\n",
    "\n",
    "- Implement your preprocessing approach. Then, run non-homogeneous Regularized Least Squares (RLS) in the new space for training set and validation set."
   ]
  },
  {
   "cell_type": "code",
   "execution_count": 41,
   "metadata": {},
   "outputs": [],
   "source": [
    "from scipy.fftpack import dct"
   ]
  },
  {
   "cell_type": "code",
   "execution_count": 58,
   "metadata": {},
   "outputs": [],
   "source": [
    "# Load dataset from the CSV file\n",
    "df = pd.read_csv(csv_filename)  # Load the image data with metadata from a CSV file\n",
    "\n",
    "# Extract features by dropping the target columns ('radius', 'x', 'y')\n",
    "X = df.drop(columns=['radius', 'x', 'y']).values  # Features (only pixel data)\n",
    "\n",
    "# Extract target values (radius, x, and y)\n",
    "Y = df[['radius', 'x', 'y']].values  # Labels (radius, x, and y)"
   ]
  },
  {
   "cell_type": "code",
   "execution_count": 66,
   "metadata": {
    "id": "Wpi1AlTupy7t"
   },
   "outputs": [
    {
     "data": {
      "text/html": [
       "<div>\n",
       "<style scoped>\n",
       "    .dataframe tbody tr th:only-of-type {\n",
       "        vertical-align: middle;\n",
       "    }\n",
       "\n",
       "    .dataframe tbody tr th {\n",
       "        vertical-align: top;\n",
       "    }\n",
       "\n",
       "    .dataframe thead th {\n",
       "        text-align: right;\n",
       "    }\n",
       "</style>\n",
       "<table border=\"1\" class=\"dataframe\">\n",
       "  <thead>\n",
       "    <tr style=\"text-align: right;\">\n",
       "      <th></th>\n",
       "      <th>DCT_0</th>\n",
       "      <th>DCT_1</th>\n",
       "      <th>DCT_2</th>\n",
       "      <th>DCT_3</th>\n",
       "      <th>DCT_4</th>\n",
       "      <th>DCT_5</th>\n",
       "      <th>DCT_6</th>\n",
       "      <th>DCT_7</th>\n",
       "      <th>DCT_8</th>\n",
       "      <th>DCT_9</th>\n",
       "      <th>...</th>\n",
       "      <th>DCT_90</th>\n",
       "      <th>DCT_91</th>\n",
       "      <th>DCT_92</th>\n",
       "      <th>DCT_93</th>\n",
       "      <th>DCT_94</th>\n",
       "      <th>DCT_95</th>\n",
       "      <th>DCT_96</th>\n",
       "      <th>DCT_97</th>\n",
       "      <th>DCT_98</th>\n",
       "      <th>DCT_99</th>\n",
       "    </tr>\n",
       "  </thead>\n",
       "  <tbody>\n",
       "    <tr>\n",
       "      <th>0</th>\n",
       "      <td>2.733333</td>\n",
       "      <td>0.212398</td>\n",
       "      <td>-0.478829</td>\n",
       "      <td>-1.411181</td>\n",
       "      <td>-0.028773</td>\n",
       "      <td>-1.421545</td>\n",
       "      <td>0.019093</td>\n",
       "      <td>0.300010</td>\n",
       "      <td>-0.105608</td>\n",
       "      <td>-0.117692</td>\n",
       "      <td>...</td>\n",
       "      <td>0.214257</td>\n",
       "      <td>0.364037</td>\n",
       "      <td>-0.200278</td>\n",
       "      <td>0.007374</td>\n",
       "      <td>0.077653</td>\n",
       "      <td>-0.667343</td>\n",
       "      <td>-0.031089</td>\n",
       "      <td>0.105552</td>\n",
       "      <td>0.007250</td>\n",
       "      <td>-0.116501</td>\n",
       "    </tr>\n",
       "    <tr>\n",
       "      <th>1</th>\n",
       "      <td>0.833333</td>\n",
       "      <td>-0.748780</td>\n",
       "      <td>-0.985477</td>\n",
       "      <td>0.517045</td>\n",
       "      <td>0.878510</td>\n",
       "      <td>-0.116845</td>\n",
       "      <td>0.643040</td>\n",
       "      <td>0.154633</td>\n",
       "      <td>-0.446819</td>\n",
       "      <td>-0.028776</td>\n",
       "      <td>...</td>\n",
       "      <td>-0.045015</td>\n",
       "      <td>-0.112985</td>\n",
       "      <td>0.096275</td>\n",
       "      <td>0.152201</td>\n",
       "      <td>0.233411</td>\n",
       "      <td>0.215333</td>\n",
       "      <td>-0.083753</td>\n",
       "      <td>-0.113022</td>\n",
       "      <td>0.251835</td>\n",
       "      <td>0.253050</td>\n",
       "    </tr>\n",
       "    <tr>\n",
       "      <th>2</th>\n",
       "      <td>1.733333</td>\n",
       "      <td>-0.666110</td>\n",
       "      <td>0.426438</td>\n",
       "      <td>-1.556544</td>\n",
       "      <td>-0.235478</td>\n",
       "      <td>-1.050712</td>\n",
       "      <td>0.477222</td>\n",
       "      <td>-0.134717</td>\n",
       "      <td>0.552684</td>\n",
       "      <td>-0.461624</td>\n",
       "      <td>...</td>\n",
       "      <td>0.352240</td>\n",
       "      <td>0.153732</td>\n",
       "      <td>0.094499</td>\n",
       "      <td>0.668909</td>\n",
       "      <td>-0.131834</td>\n",
       "      <td>0.260840</td>\n",
       "      <td>0.034612</td>\n",
       "      <td>0.031434</td>\n",
       "      <td>0.126959</td>\n",
       "      <td>-0.097651</td>\n",
       "    </tr>\n",
       "    <tr>\n",
       "      <th>3</th>\n",
       "      <td>3.000000</td>\n",
       "      <td>-0.388020</td>\n",
       "      <td>0.475287</td>\n",
       "      <td>-0.987118</td>\n",
       "      <td>-0.003971</td>\n",
       "      <td>-1.308943</td>\n",
       "      <td>-0.107352</td>\n",
       "      <td>-0.019110</td>\n",
       "      <td>-0.226248</td>\n",
       "      <td>0.358313</td>\n",
       "      <td>...</td>\n",
       "      <td>0.210819</td>\n",
       "      <td>-0.039888</td>\n",
       "      <td>-0.170631</td>\n",
       "      <td>-0.252521</td>\n",
       "      <td>-0.134813</td>\n",
       "      <td>0.267620</td>\n",
       "      <td>-0.517697</td>\n",
       "      <td>0.092528</td>\n",
       "      <td>0.238955</td>\n",
       "      <td>-0.126219</td>\n",
       "    </tr>\n",
       "    <tr>\n",
       "      <th>4</th>\n",
       "      <td>4.066667</td>\n",
       "      <td>-0.282951</td>\n",
       "      <td>0.426663</td>\n",
       "      <td>-1.597643</td>\n",
       "      <td>0.271608</td>\n",
       "      <td>-1.984372</td>\n",
       "      <td>-0.190114</td>\n",
       "      <td>0.005286</td>\n",
       "      <td>0.249626</td>\n",
       "      <td>-0.313862</td>\n",
       "      <td>...</td>\n",
       "      <td>0.246831</td>\n",
       "      <td>0.518051</td>\n",
       "      <td>-0.037595</td>\n",
       "      <td>-0.474278</td>\n",
       "      <td>0.107304</td>\n",
       "      <td>-0.085202</td>\n",
       "      <td>-0.269762</td>\n",
       "      <td>0.245302</td>\n",
       "      <td>0.187064</td>\n",
       "      <td>0.716002</td>\n",
       "    </tr>\n",
       "  </tbody>\n",
       "</table>\n",
       "<p>5 rows × 100 columns</p>\n",
       "</div>"
      ],
      "text/plain": [
       "      DCT_0     DCT_1     DCT_2     DCT_3     DCT_4     DCT_5     DCT_6  \\\n",
       "0  2.733333  0.212398 -0.478829 -1.411181 -0.028773 -1.421545  0.019093   \n",
       "1  0.833333 -0.748780 -0.985477  0.517045  0.878510 -0.116845  0.643040   \n",
       "2  1.733333 -0.666110  0.426438 -1.556544 -0.235478 -1.050712  0.477222   \n",
       "3  3.000000 -0.388020  0.475287 -0.987118 -0.003971 -1.308943 -0.107352   \n",
       "4  4.066667 -0.282951  0.426663 -1.597643  0.271608 -1.984372 -0.190114   \n",
       "\n",
       "      DCT_7     DCT_8     DCT_9  ...    DCT_90    DCT_91    DCT_92    DCT_93  \\\n",
       "0  0.300010 -0.105608 -0.117692  ...  0.214257  0.364037 -0.200278  0.007374   \n",
       "1  0.154633 -0.446819 -0.028776  ... -0.045015 -0.112985  0.096275  0.152201   \n",
       "2 -0.134717  0.552684 -0.461624  ...  0.352240  0.153732  0.094499  0.668909   \n",
       "3 -0.019110 -0.226248  0.358313  ...  0.210819 -0.039888 -0.170631 -0.252521   \n",
       "4  0.005286  0.249626 -0.313862  ...  0.246831  0.518051 -0.037595 -0.474278   \n",
       "\n",
       "     DCT_94    DCT_95    DCT_96    DCT_97    DCT_98    DCT_99  \n",
       "0  0.077653 -0.667343 -0.031089  0.105552  0.007250 -0.116501  \n",
       "1  0.233411  0.215333 -0.083753 -0.113022  0.251835  0.253050  \n",
       "2 -0.131834  0.260840  0.034612  0.031434  0.126959 -0.097651  \n",
       "3 -0.134813  0.267620 -0.517697  0.092528  0.238955 -0.126219  \n",
       "4  0.107304 -0.085202 -0.269762  0.245302  0.187064  0.716002  \n",
       "\n",
       "[5 rows x 100 columns]"
      ]
     },
     "execution_count": 66,
     "metadata": {},
     "output_type": "execute_result"
    }
   ],
   "source": [
    "# set the number DCT coefficient\n",
    "n_coeffs = 100\n",
    "\n",
    "\n",
    "# Define a function to transforms pixel values to a new space.\n",
    "def transform(X_df: pd.DataFrame):\n",
    "  X_images = X_df.reshape(-1, 30, 30)\n",
    "  dct_coeffs = np.array([dct(dct(img.T, norm='ortho').T, norm='ortho') for img in X_images])\n",
    "\n",
    "  # zig-zag scan\n",
    "  def zigzag(a):\n",
    "    return np.concatenate([\n",
    "      np.diagonal(a[::-1, :], k)[:: (2 * (k % 2) - 1)] for k in range(1 - a.shape[0], a.shape[0])\n",
    "    ])\n",
    "\n",
    "  top_coeffs = np.array([zigzag(img)[:n_coeffs] for img in dct_coeffs])\n",
    "  return pd.DataFrame(top_coeffs, columns=[f'DCT_{i}' for i in range(n_coeffs)])\n",
    "\n",
    "\n",
    "# Apply the transform function to the DataFrame\n",
    "processed_X_df = transform(X)\n",
    "\n",
    "# Display the first few rows of the updated DataFrame\n",
    "processed_X_df.head()"
   ]
  },
  {
   "cell_type": "code",
   "execution_count": 67,
   "metadata": {},
   "outputs": [
    {
     "data": {
      "text/plain": [
       "((2200, 100), (2200, 900))"
      ]
     },
     "execution_count": 67,
     "metadata": {},
     "output_type": "execute_result"
    }
   ],
   "source": [
    "np.array(processed_X_df).shape, np.array(X).shape"
   ]
  },
  {
   "cell_type": "markdown",
   "metadata": {
    "id": "aq8QgowJwriU"
   },
   "source": [
    "---\n",
    "---\n",
    "### PART 3 (15 marks):\n",
    "---\n",
    "---\n",
    "\n",
    "\n",
    "- Report the MSE on the training and validation sets for different values of lambda and plot it. **As mentioned, it should perform better for getting points.** choose the best value of lambda, apply your preprocessing approach to the test set, and then report the MSE after running RLS.\n",
    "\n"
   ]
  },
  {
   "cell_type": "code",
   "execution_count": 68,
   "metadata": {
    "id": "c5hTDDY8R8sq"
   },
   "outputs": [],
   "source": [
    "# Specify the number of training, validation, testing samples.\n",
    "train_size, valid_size, test_size = 200, 1800, 200\n",
    "total_size = train_size + valid_size + test_size"
   ]
  },
  {
   "cell_type": "code",
   "execution_count": 70,
   "metadata": {
    "id": "735hxlxUR_GJ"
   },
   "outputs": [],
   "source": [
    "########################################################\n",
    "########################################################\n",
    "#### Please take note that we insert processed_X_df ####\n",
    "#### as the new input for splitting                 ####\n",
    "########################################################\n",
    "########################################################\n",
    "Z_train, Z_valid, Z_test, Y_train, Y_valid, Y_test = split_dataset(\n",
    "  processed_X_df, Y, total_size, train_size, valid_size\n",
    ")"
   ]
  },
  {
   "cell_type": "code",
   "execution_count": 71,
   "metadata": {
    "id": "DOzgptq5SNOf"
   },
   "outputs": [],
   "source": [
    "# Define a range of alpha values (regularization parameters) using an exponential scale\n",
    "alphas = np.exp(np.arange(-2, 4.5, 0.5))\n",
    "\n",
    "train_mse_list = []\n",
    "val_mse_list = []\n",
    "\n",
    "# Iterate over the range of alpha values\n",
    "for alpha in alphas:\n",
    "  # Run RLS regression with a bias term added on train and validation sets\n",
    "  mse_train, mse_val, _, _ = run_ols(Z_train, Z_valid, Y_train, Y_valid, alpha, augment=True)\n",
    "\n",
    "  # Store the MSE values\n",
    "  train_mse_list.append(mse_train)\n",
    "  val_mse_list.append(mse_val)"
   ]
  },
  {
   "cell_type": "code",
   "execution_count": 76,
   "metadata": {
    "id": "7kxj3b-HuAM8"
   },
   "outputs": [
    {
     "data": {
      "image/png": "[encoded data removed]",
      "text/plain": [
       "<Figure size 1000x600 with 1 Axes>"
      ]
     },
     "metadata": {},
     "output_type": "display_data"
    }
   ],
   "source": [
    "# Plot the MSE for the non-homogeneous model across different alphas\n",
    "optimal_alpha = alphas[np.argmin(val_mse_list)]\n",
    "\n",
    "# Plot the MSE for the non-homogeneous model across different alphas\n",
    "plt.figure(figsize=(10, 6))\n",
    "plt.semilogx(alphas, train_mse_list, 'b-', label='training MSE')\n",
    "plt.semilogx(alphas, val_mse_list, 'r-', label='validation MSE')\n",
    "plt.xlabel('Alpha (log scale)')\n",
    "plt.ylabel('Mean Squared Error')\n",
    "plt.title('Training and Validation MSE vs Alpha with DCT preprocessing (non-homogeneous model)')\n",
    "plt.grid(True)\n",
    "\n",
    "plt.axvline(x=optimal_alpha, color='g', linestyle='--', label=f'Optional alpha  = {optimal_alpha:.4f}')\n",
    "plt.legend()\n",
    "plt.show()"
   ]
  },
  {
   "cell_type": "code",
   "execution_count": 74,
   "metadata": {
    "id": "pF4SS7GoBmMU"
   },
   "outputs": [],
   "source": [
    "# Here you find the best value of lambda\n",
    "best_alpha = alphas[np.argmin(val_mse_list)]"
   ]
  },
  {
   "cell_type": "code",
   "execution_count": 75,
   "metadata": {
    "id": "dUoS9rFJxOC0"
   },
   "outputs": [
    {
     "name": "stdout",
     "output_type": "stream",
     "text": [
      "OLS regression with bias term (non-homogeneous model) on test set:\n",
      "Test MSE: 3.2911\n",
      "\n",
      "R-squared values:\n",
      "Radius: -0.3946\n",
      "X-coordinate: -4.1630\n",
      "Y-coordinate: -4.1937\n",
      "\n",
      "Mean Absolute Error:\n",
      "Radius: 3.1738\n",
      "X-coordinate: 9.0496\n",
      "Y-coordinate: 9.2581\n"
     ]
    }
   ],
   "source": [
    "# Run OLS regression with a bias term added (non-homogeneous model)\n",
    "Z_train_aug = augment_data(Z_train)\n",
    "Z_test_aug = augment_data(Z_test)\n",
    "mse_test, Y_pred_test, _, _ = run_ols(Z_train_aug, Z_test_aug, Y_train, Y_test, best_alpha, augment=True)\n",
    "\n",
    "# Output the results for the non-homogeneous model\n",
    "print('OLS regression with bias term (non-homogeneous model) on test set:')\n",
    "print(f'Test MSE: {mse_test:.4f}')\n",
    "\n",
    "# Calculate R-squared for each target variable\n",
    "r_squared_values = r_squared(Y_test, Y_pred_test)\n",
    "\n",
    "print('\\nR-squared values:')\n",
    "print(f'Radius: {r_squared_values[0]:.4f}')\n",
    "print(f'X-coordinate: {r_squared_values[1]:.4f}')\n",
    "print(f'Y-coordinate: {r_squared_values[2]:.4f}')\n",
    "\n",
    "mae = np.mean(np.abs(Y_test - Y_pred_test), axis=0)\n",
    "\n",
    "print('\\nMean Absolute Error:')\n",
    "print(f'Radius: {mae[0]:.4f}')\n",
    "print(f'X-coordinate: {mae[1]:.4f}')\n",
    "print(f'Y-coordinate: {mae[2]:.4f}')"
   ]
  },
  {
   "cell_type": "markdown",
   "metadata": {},
   "source": [
    "---\n",
    "## question 3."
   ]
  },
  {
   "cell_type": "code",
   "execution_count": 81,
   "metadata": {},
   "outputs": [
    {
     "name": "stdout",
     "output_type": "stream",
     "text": [
      "Optimal a: 2.9430355293715387\n",
      "Analytical a: 2.9430355293715387\n",
      "Difference: 0.0\n"
     ]
    }
   ],
   "source": [
    "from scipy.optimize import minimize_scalar\n",
    "from scipy.integrate import quad\n",
    "\n",
    "\n",
    "def objective(log_a):\n",
    "  a = np.exp(log_a)\n",
    "  integrand = lambda x: (log_a - np.log(x)) ** 2\n",
    "  integral_val, _ = quad(integrand, 2, 4)\n",
    "  return integral_val\n",
    "\n",
    "\n",
    "result = minimize_scalar(objective)\n",
    "# Extract the optimal value\n",
    "log_a_opt = result.x\n",
    "a_opt = np.exp(log_a_opt)\n",
    "\n",
    "print(f'Optimal a: {a_opt}')\n",
    "print(f'Analytical a: {8 / np.exp(1)}')\n",
    "print(f'Difference: {abs(a_opt - 8 / np.exp(1))}')"
   ]
  }
 ],
 "metadata": {
  "accelerator": "GPU",
  "colab": {
   "gpuType": "T4",
   "provenance": []
  },
  "kernelspec": {
   "display_name": "Python 3 (ipykernel)",
   "language": "python",
   "name": "python3"
  },
  "language_info": {
   "codemirror_mode": {
    "name": "ipython",
    "version": 3
   },
   "file_extension": ".py",
   "mimetype": "text/x-python",
   "name": "python",
   "nbconvert_exporter": "python",
   "pygments_lexer": "ipython3",
   "version": "3.9.19"
  }
 },
 "nbformat": 4,
 "nbformat_minor": 4
}
