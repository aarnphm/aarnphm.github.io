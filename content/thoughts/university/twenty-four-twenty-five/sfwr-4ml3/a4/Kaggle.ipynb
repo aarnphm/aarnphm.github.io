{
 "cells": [
  {
   "cell_type": "code",
   "execution_count": 98,
   "id": "e90dba92-db01-4f16-9005-fffc9d5bfd43",
   "metadata": {},
   "outputs": [],
   "source": [
    "%%capture\n",
    "!uv pip install pandas safetensors torch scipy tqdm torchvision torch torchinfo timm tensorboard"
   ]
  },
  {
   "cell_type": "code",
   "execution_count": 100,
   "id": "ac5adfb1-c450-4411-99fc-cbe424648ffd",
   "metadata": {},
   "outputs": [],
   "source": [
    "import os, inspect\n",
    "\n",
    "from datetime import datetime\n",
    "from typing import Literal\n",
    "\n",
    "import torch\n",
    "import torch.nn as nn\n",
    "import torch.nn.functional as F\n",
    "import torch.optim as optim\n",
    "import torchvision\n",
    "import pandas as pd\n",
    "import numpy as np\n",
    "import matplotlib.pyplot as plt\n",
    "\n",
    "from tqdm import tqdm\n",
    "from PIL import Image\n",
    "from torchinfo import summary\n",
    "from torchvision import datasets, transforms, models\n",
    "from torch.utils.data import DataLoader, Dataset, random_split, Subset\n",
    "\n",
    "from safetensors.torch import save_model, load_model"
   ]
  },
  {
   "cell_type": "code",
   "execution_count": 104,
   "id": "5ebf2489-9b11-4ca5-8280-16bd4fdc9f39",
   "metadata": {},
   "outputs": [
    {
     "name": "stdout",
     "output_type": "stream",
     "text": [
      "The autoreload extension is already loaded. To reload it, use:\n",
      "  %reload_ext autoreload\n"
     ]
    }
   ],
   "source": [
    "%load_ext autoreload\n",
    "%matplotlib inline\n",
    "%autoreload 2"
   ]
  },
  {
   "cell_type": "markdown",
   "id": "f3ada707-1eff-42ce-98de-c39f85bec69d",
   "metadata": {},
   "source": [
    "## test set exploration"
   ]
  },
  {
   "cell_type": "code",
   "execution_count": 105,
   "id": "7738b8f1-48c8-49e2-93a1-9882e59ecfa9",
   "metadata": {},
   "outputs": [
    {
     "name": "stdout",
     "output_type": "stream",
     "text": [
      "Total samples in CSV: 10000\n"
     ]
    },
    {
     "data": {
      "image/png": "[encoded data removed]",
      "text/plain": [
       "<Figure size 200x200 with 1 Axes>"
      ]
     },
     "metadata": {},
     "output_type": "display_data"
    },
    {
     "data": {
      "image/png": "[encoded data removed]",
      "text/plain": [
       "<Figure size 200x200 with 1 Axes>"
      ]
     },
     "metadata": {},
     "output_type": "display_data"
    },
    {
     "data": {
      "image/png": "[encoded data removed]",
      "text/plain": [
       "<Figure size 200x200 with 1 Axes>"
      ]
     },
     "metadata": {},
     "output_type": "display_data"
    },
    {
     "data": {
      "image/png": "[encoded data removed]",
      "text/plain": [
       "<Figure size 200x200 with 1 Axes>"
      ]
     },
     "metadata": {},
     "output_type": "display_data"
    },
    {
     "data": {
      "image/png": "[encoded data removed]",
      "text/plain": [
       "<Figure size 200x200 with 1 Axes>"
      ]
     },
     "metadata": {},
     "output_type": "display_data"
    }
   ],
   "source": [
    "csv_path = 'test.csv'\n",
    "df = pd.read_csv(csv_path)\n",
    "\n",
    "print(f'Total samples in CSV: {len(df)}')\n",
    "\n",
    "\n",
    "# Function to reverse the normalization\n",
    "def unnormalize(tensor, mean, std):\n",
    "  for t, m, s in zip(tensor, mean, std):\n",
    "    t.mul_(s).add_(m)\n",
    "  return tensor\n",
    "\n",
    "\n",
    "CIFAR100_MEAN = (0.5071, 0.4867, 0.4408)\n",
    "CIFAR100_STD = (0.2675, 0.2565, 0.2761)\n",
    "\n",
    "# Select a few samples to display (e.g., first 5)\n",
    "num_samples = 5\n",
    "samples = df.sample(n=num_samples)  # Randomly select samples for diversity\n",
    "\n",
    "# Iterate through the selected samples and display images\n",
    "for index, row in samples.iterrows():\n",
    "  # Extract pixel data and convert to numpy array\n",
    "  pixel_data = row[[f'pixel_{i}' for i in range(1, 3073)]].values.astype(np.float32)\n",
    "\n",
    "  # Reshape to (3, 32, 32)\n",
    "  image = pixel_data.reshape(3, 32, 32)\n",
    "\n",
    "  # Convert to torch tensor\n",
    "  image_tensor = torch.tensor(image)\n",
    "\n",
    "  # Reverse the normalization\n",
    "  image_tensor = unnormalize(image_tensor, CIFAR100_MEAN, CIFAR100_STD)\n",
    "\n",
    "  # Clip the values to [0, 1] range\n",
    "  image_tensor = torch.clamp(image_tensor, 0, 1)\n",
    "\n",
    "  # Convert to numpy array and transpose to (32, 32, 3) for plotting\n",
    "  image_np = image_tensor.numpy().transpose(1, 2, 0)\n",
    "\n",
    "  # Convert to PIL Image for better handling (optional)\n",
    "  image_pil = Image.fromarray((image_np * 255).astype(np.uint8))\n",
    "\n",
    "  # Display the image using matplotlib\n",
    "  plt.figure(figsize=(2, 2))\n",
    "  plt.imshow(image_pil)\n",
    "  plt.axis('off')"
   ]
  },
  {
   "cell_type": "markdown",
   "id": "5c34ebe2-f521-4bfe-9235-1c171c3e261e",
   "metadata": {},
   "source": [
    "---\n",
    "\n",
    "## implementation"
   ]
  },
  {
   "cell_type": "markdown",
   "id": "64cd5375-1ab1-4c50-a392-779a35433e1d",
   "metadata": {},
   "source": [
    "We will use EfficientNet V2 described in [EfficientNetV2: Smaller Models and Faster Training](https://arxiv.org/pdf/2104.00298v3)\n",
    "\n",
    "Training configuration:\n",
    "- criterion: `nn.CrossEntropyLoss()`\n",
    "- optimizer: `optim.AdamW` with `lr=0.001` and added weight decay\n",
    "- scheduler: `CosineAnnealingLR` with `T_max=30`"
   ]
  },
  {
   "cell_type": "markdown",
   "id": "6a0bdbfc-0749-4b38-a444-d0e9dcb1cf29",
   "metadata": {},
   "source": [
    "### hyperparameters"
   ]
  },
  {
   "cell_type": "code",
   "execution_count": 86,
   "id": "5d1918ac-1ee2-434d-b851-89ffa7277167",
   "metadata": {},
   "outputs": [],
   "source": [
    "# Define CIFAR-100 mean and std\n",
    "CIFAR100_MEAN = (0.5071, 0.4867, 0.4408)\n",
    "CIFAR100_STD = (0.2675, 0.2565, 0.2761)\n",
    "\n",
    "# Hyperparameters\n",
    "num_epochs = 30\n",
    "lr = 0.001\n",
    "weight_decay = 1e-4\n",
    "batch_size = 128\n",
    "model_prefix = f'efficientnet_v2_{lr}_{num_epochs}'\n",
    "device = 'cuda' if torch.cuda.is_available() else 'cpu'\n",
    "\n",
    "ncols = 100"
   ]
  },
  {
   "cell_type": "markdown",
   "id": "012187a0-bcbb-4a1e-be73-b4f1e653bc43",
   "metadata": {},
   "source": [
    "### helpers"
   ]
  },
  {
   "cell_type": "code",
   "execution_count": 81,
   "id": "74c1c4cd-82fc-4e8e-8145-59141a5a899b",
   "metadata": {},
   "outputs": [],
   "source": [
    "# CIFAR-100 dataset (download and create DataLoader)\n",
    "def get_dataloaders(batch_size):\n",
    "  transform_train = transforms.Compose([\n",
    "    transforms.RandomCrop(32, padding=4),\n",
    "    transforms.RandomHorizontalFlip(),\n",
    "    transforms.ToTensor(),\n",
    "    transforms.Normalize(CIFAR100_MEAN, CIFAR100_STD),\n",
    "  ])\n",
    "\n",
    "  transform_test = transforms.Compose([transforms.ToTensor(), transforms.Normalize(CIFAR100_MEAN, CIFAR100_STD)])\n",
    "\n",
    "  train_dataset = torchvision.datasets.CIFAR100(root='./data', train=True, download=True, transform=transform_train)\n",
    "  train_loader = DataLoader(train_dataset, batch_size=batch_size, shuffle=True, num_workers=4)\n",
    "\n",
    "  test_dataset = torchvision.datasets.CIFAR100(root='./data', train=False, download=True, transform=transform_test)\n",
    "  test_loader = DataLoader(test_dataset, batch_size=batch_size, shuffle=False, num_workers=4)\n",
    "\n",
    "  return train_loader, test_loader\n",
    "\n",
    "\n",
    "def _holistic_patch(model, num_features=100):\n",
    "  model.classifier[1] = nn.Linear(model.classifier[1].in_features, num_features)\n",
    "\n",
    "\n",
    "# Load EfficientNetV2 model\n",
    "def init_model(variants: Literal['S', 'M', 'L'] = 'S', patch=_holistic_patch):\n",
    "  if variants == 'S':\n",
    "    model = models.efficientnet_v2_s(weights=models.EfficientNet_V2_S_Weights.DEFAULT)\n",
    "  elif variants == 'M':\n",
    "    model = models.efficientnet_v2_m(weights=models.EfficientNet_V2_M_Weights.DEFAULT)\n",
    "  elif variants == 'L':\n",
    "    model = models.efficientnet_v2_l(weights=models.EfficientNet_V2_L_Weights.DEFAULT)\n",
    "  patch(model)\n",
    "  model.variants = variants\n",
    "  model = model.to(device)\n",
    "  return model\n",
    "\n",
    "\n",
    "# Load model if exists\n",
    "def load_checkpoint(filepath, model=None, variants='S'):\n",
    "  if model is None:\n",
    "    model = init_model(variants)\n",
    "  load_model(model, filepath)\n",
    "  model.eval()\n",
    "  return model\n",
    "\n",
    "\n",
    "# Save model to safetensors\n",
    "def save_checkpoint(model, accuracy, model_prefix, basedir='./model'):\n",
    "  timestamp = datetime.now().strftime('%Y%m%d_%H%M%S')\n",
    "  os.makedirs(basedir, exist_ok=True)\n",
    "\n",
    "  variants = 'default'\n",
    "  if hasattr(model, 'variants'):\n",
    "    variants = model.variants\n",
    "\n",
    "  filepath = os.path.join(basedir, f'{model_prefix}_{variants}_{accuracy:.2f}_{timestamp}.safetensors')\n",
    "  save_model(model, filepath)\n",
    "  print(f'Model checkpoint saved to {filepath}.')"
   ]
  },
  {
   "cell_type": "code",
   "execution_count": 87,
   "id": "42bd67d6-0a1e-4f22-825b-97f99f5d9a07",
   "metadata": {},
   "outputs": [],
   "source": [
    "# Train the model\n",
    "def train(model, train_loader, criterion, optimizer, scheduler, num_epochs, *, ncols=100):\n",
    "  best_accuracy = 0.0\n",
    "  train_losses = []\n",
    "  train_accuracies = []\n",
    "\n",
    "  for epoch in range(num_epochs):\n",
    "    model.train()\n",
    "    running_loss = 0.0\n",
    "    correct = 0\n",
    "    total = 0\n",
    "\n",
    "    with tqdm(enumerate(train_loader), total=len(train_loader), ncols=ncols) as bar:\n",
    "      for i, (images, labels) in bar:\n",
    "        images, labels = images.to(device), labels.to(device)\n",
    "\n",
    "        # Forward pass\n",
    "        outputs = model(images)\n",
    "        loss = criterion(outputs, labels)\n",
    "\n",
    "        # Backward pass and optimization\n",
    "        optimizer.zero_grad()\n",
    "        loss.backward()\n",
    "        optimizer.step()\n",
    "\n",
    "        running_loss += loss.item()\n",
    "        _, predicted = torch.max(outputs.data, 1)\n",
    "        total += labels.size(0)\n",
    "        correct += (predicted == labels).sum().item()\n",
    "\n",
    "        bar.set_description(f'Epoch [{epoch + 1}/{num_epochs}]')\n",
    "        bar.set_postfix(loss=loss.item())\n",
    "\n",
    "    scheduler.step()\n",
    "    epoch_loss = running_loss / len(train_loader)\n",
    "    epoch_acc = 100 * correct / total\n",
    "    train_losses.append(epoch_loss)\n",
    "    train_accuracies.append(epoch_acc)\n",
    "    print(f'Epoch [{epoch + 1}/{num_epochs}], Loss: {epoch_loss:.4f}, Accuracy: {epoch_acc:.2f}%')\n",
    "\n",
    "    # Evaluate the model on test set after each epoch\n",
    "    test_acc = evaluate(model, test_loader)\n",
    "    if test_acc > best_accuracy:\n",
    "      best_accuracy = test_acc\n",
    "      save_checkpoint(model, best_accuracy, model_prefix)\n",
    "\n",
    "  # Plotting training history\n",
    "  plot_training_history(train_losses, train_accuracies)\n",
    "\n",
    "\n",
    "# Evaluate the model\n",
    "def evaluate(model, test_loader):\n",
    "  model.eval()\n",
    "  correct = 0\n",
    "  total = 0\n",
    "  with torch.no_grad():\n",
    "    for images, labels in test_loader:\n",
    "      images, labels = images.to(device), labels.to(device)\n",
    "      outputs = model(images)\n",
    "      _, predicted = torch.max(outputs.data, 1)\n",
    "      total += labels.size(0)\n",
    "      correct += (predicted == labels).sum().item()\n",
    "\n",
    "  accuracy = 100 * correct / total\n",
    "  print(f'Test Accuracy: {accuracy:.2f}%')\n",
    "  return accuracy\n",
    "\n",
    "\n",
    "# Plot training history\n",
    "def plot_training_history(train_losses, train_accuracies):\n",
    "  plt.figure(figsize=(12, 5))\n",
    "\n",
    "  # Plot training loss\n",
    "  plt.subplot(1, 2, 1)\n",
    "  plt.plot(train_losses, label='Training Loss')\n",
    "  plt.xlabel('Epoch')\n",
    "  plt.ylabel('Loss')\n",
    "  plt.title('Training Loss over Epochs')\n",
    "  plt.legend()\n",
    "\n",
    "  # Plot training accuracy\n",
    "  plt.subplot(1, 2, 2)\n",
    "  plt.plot(train_accuracies, label='Training Accuracy')\n",
    "  plt.xlabel('Epoch')\n",
    "  plt.ylabel('Accuracy (%)')\n",
    "  plt.title('Training Accuracy over Epochs')\n",
    "  plt.legend()\n",
    "\n",
    "  plt.show()\n",
    "\n",
    "\n",
    "def validations(model, test_loader, classes, num_examples=16):\n",
    "  model.eval()\n",
    "  SAMPLES, PREDS, LABELS = [], [], []\n",
    "\n",
    "  with torch.no_grad():\n",
    "    for _ in range(num_examples):\n",
    "      idx = np.random.randint(len(test_loader.dataset))\n",
    "      sample_image, actual_label = test_loader.dataset[idx]\n",
    "      sample_image = sample_image.unsqueeze(0).to(device)\n",
    "      SAMPLES.append(sample_image.squeeze(0))\n",
    "      LABELS.append(actual_label)\n",
    "\n",
    "      output = F.softmax(model(sample_image), dim=-1)\n",
    "      pred_values, pred_labels = output.max(-1)\n",
    "      PREDS.append(round(float(pred_values), 4))\n",
    "      LABELS.append(int(pred_labels))\n",
    "\n",
    "  fig, ax = plt.subplots(nrows=4, ncols=4, figsize=(21, 19))\n",
    "  i = 0\n",
    "  for R in range(4):\n",
    "    for C in range(4):\n",
    "      image_np = SAMPLES[i].cpu().numpy().transpose(1, 2, 0)\n",
    "      image_np = image_np * np.array((0.2675, 0.2565, 0.2761)) + np.array((0.5071, 0.4867, 0.4408))  # Unnormalize\n",
    "      image_np = np.clip(image_np, 0, 1)\n",
    "      ax[R, C].imshow(image_np)\n",
    "      ax[R, C].set_title('Actual: ' + classes[LABELS[i]], fontsize=16).set_color('k')\n",
    "      ax[R, C].set_ylabel(PREDS[i], fontsize=16, rotation=0, labelpad=25).set_color('m')\n",
    "      if LABELS[i] == LABELS[i]:\n",
    "        ax[R, C].set_xlabel('Predicted: ' + classes[LABELS[i]], fontsize=16).set_color('b')\n",
    "      else:\n",
    "        ax[R, C].set_xlabel('Predicted: ' + classes[LABELS[i]], fontsize=16).set_color('r')\n",
    "      ax[R, C].set_xticks([])\n",
    "      ax[R, C].set_yticks([])\n",
    "      i += 1\n",
    "\n",
    "  plt.show()"
   ]
  },
  {
   "cell_type": "code",
   "execution_count": null,
   "id": "0745d0b8-4631-479e-a776-f89153a622f1",
   "metadata": {},
   "outputs": [],
   "source": []
  },
  {
   "cell_type": "markdown",
   "id": "05c47ba0-ea9f-411e-899f-3a41124e6403",
   "metadata": {},
   "source": [
    "### training loop"
   ]
  },
  {
   "cell_type": "code",
   "execution_count": 83,
   "id": "6702f26f-36f5-41c4-a915-63c4a17591de",
   "metadata": {},
   "outputs": [
    {
     "name": "stdout",
     "output_type": "stream",
     "text": [
      "Files already downloaded and verified\n",
      "Files already downloaded and verified\n"
     ]
    }
   ],
   "source": [
    "# Training parameters\n",
    "train_loader, test_loader = get_dataloaders(batch_size)\n",
    "model = init_model()\n",
    "\n",
    "criterion = nn.CrossEntropyLoss()\n",
    "optimizer = optim.AdamW(model.parameters(), lr=lr)\n",
    "scheduler.step(epoch + i / len(train_loader))"
   ]
  },
  {
   "cell_type": "code",
   "execution_count": 84,
   "id": "1590eb03-d330-463a-98e1-776d5bcb1659",
   "metadata": {
    "scrolled": true
   },
   "outputs": [
    {
     "data": {
      "text/plain": [
       "=========================================================================================================\n",
       "Layer (type:depth-idx)                                  Output Shape              Param #\n",
       "=========================================================================================================\n",
       "EfficientNet                                            [32, 100]                 --\n",
       "├─Sequential: 1-1                                       [32, 1280, 7, 7]          --\n",
       "│    └─Conv2dNormActivation: 2-1                        [32, 24, 112, 112]        --\n",
       "│    │    └─Conv2d: 3-1                                 [32, 24, 112, 112]        648\n",
       "│    │    └─BatchNorm2d: 3-2                            [32, 24, 112, 112]        48\n",
       "│    │    └─SiLU: 3-3                                   [32, 24, 112, 112]        --\n",
       "│    └─Sequential: 2-2                                  [32, 24, 112, 112]        --\n",
       "│    │    └─FusedMBConv: 3-4                            [32, 24, 112, 112]        5,232\n",
       "│    │    └─FusedMBConv: 3-5                            [32, 24, 112, 112]        5,232\n",
       "│    └─Sequential: 2-3                                  [32, 48, 56, 56]          --\n",
       "│    │    └─FusedMBConv: 3-6                            [32, 48, 56, 56]          25,632\n",
       "│    │    └─FusedMBConv: 3-7                            [32, 48, 56, 56]          92,640\n",
       "│    │    └─FusedMBConv: 3-8                            [32, 48, 56, 56]          92,640\n",
       "│    │    └─FusedMBConv: 3-9                            [32, 48, 56, 56]          92,640\n",
       "│    └─Sequential: 2-4                                  [32, 64, 28, 28]          --\n",
       "│    │    └─FusedMBConv: 3-10                           [32, 64, 28, 28]          95,744\n",
       "│    │    └─FusedMBConv: 3-11                           [32, 64, 28, 28]          164,480\n",
       "│    │    └─FusedMBConv: 3-12                           [32, 64, 28, 28]          164,480\n",
       "│    │    └─FusedMBConv: 3-13                           [32, 64, 28, 28]          164,480\n",
       "│    └─Sequential: 2-5                                  [32, 128, 14, 14]         --\n",
       "│    │    └─MBConv: 3-14                                [32, 128, 14, 14]         61,200\n",
       "│    │    └─MBConv: 3-15                                [32, 128, 14, 14]         171,296\n",
       "│    │    └─MBConv: 3-16                                [32, 128, 14, 14]         171,296\n",
       "│    │    └─MBConv: 3-17                                [32, 128, 14, 14]         171,296\n",
       "│    │    └─MBConv: 3-18                                [32, 128, 14, 14]         171,296\n",
       "│    │    └─MBConv: 3-19                                [32, 128, 14, 14]         171,296\n",
       "│    └─Sequential: 2-6                                  [32, 160, 14, 14]         --\n",
       "│    │    └─MBConv: 3-20                                [32, 160, 14, 14]         281,440\n",
       "│    │    └─MBConv: 3-21                                [32, 160, 14, 14]         397,800\n",
       "│    │    └─MBConv: 3-22                                [32, 160, 14, 14]         397,800\n",
       "│    │    └─MBConv: 3-23                                [32, 160, 14, 14]         397,800\n",
       "│    │    └─MBConv: 3-24                                [32, 160, 14, 14]         397,800\n",
       "│    │    └─MBConv: 3-25                                [32, 160, 14, 14]         397,800\n",
       "│    │    └─MBConv: 3-26                                [32, 160, 14, 14]         397,800\n",
       "│    │    └─MBConv: 3-27                                [32, 160, 14, 14]         397,800\n",
       "│    │    └─MBConv: 3-28                                [32, 160, 14, 14]         397,800\n",
       "│    └─Sequential: 2-7                                  [32, 256, 7, 7]           --\n",
       "│    │    └─MBConv: 3-29                                [32, 256, 7, 7]           490,152\n",
       "│    │    └─MBConv: 3-30                                [32, 256, 7, 7]           1,005,120\n",
       "│    │    └─MBConv: 3-31                                [32, 256, 7, 7]           1,005,120\n",
       "│    │    └─MBConv: 3-32                                [32, 256, 7, 7]           1,005,120\n",
       "│    │    └─MBConv: 3-33                                [32, 256, 7, 7]           1,005,120\n",
       "│    │    └─MBConv: 3-34                                [32, 256, 7, 7]           1,005,120\n",
       "│    │    └─MBConv: 3-35                                [32, 256, 7, 7]           1,005,120\n",
       "│    │    └─MBConv: 3-36                                [32, 256, 7, 7]           1,005,120\n",
       "│    │    └─MBConv: 3-37                                [32, 256, 7, 7]           1,005,120\n",
       "│    │    └─MBConv: 3-38                                [32, 256, 7, 7]           1,005,120\n",
       "│    │    └─MBConv: 3-39                                [32, 256, 7, 7]           1,005,120\n",
       "│    │    └─MBConv: 3-40                                [32, 256, 7, 7]           1,005,120\n",
       "│    │    └─MBConv: 3-41                                [32, 256, 7, 7]           1,005,120\n",
       "│    │    └─MBConv: 3-42                                [32, 256, 7, 7]           1,005,120\n",
       "│    │    └─MBConv: 3-43                                [32, 256, 7, 7]           1,005,120\n",
       "│    └─Conv2dNormActivation: 2-8                        [32, 1280, 7, 7]          --\n",
       "│    │    └─Conv2d: 3-44                                [32, 1280, 7, 7]          327,680\n",
       "│    │    └─BatchNorm2d: 3-45                           [32, 1280, 7, 7]          2,560\n",
       "│    │    └─SiLU: 3-46                                  [32, 1280, 7, 7]          --\n",
       "├─AdaptiveAvgPool2d: 1-2                                [32, 1280, 1, 1]          --\n",
       "├─Sequential: 1-3                                       [32, 100]                 --\n",
       "│    └─Dropout: 2-9                                     [32, 1280]                --\n",
       "│    └─Linear: 2-10                                     [32, 100]                 128,100\n",
       "=========================================================================================================\n",
       "Total params: 20,305,588\n",
       "Trainable params: 20,305,588\n",
       "Non-trainable params: 0\n",
       "Total mult-adds (Units.GIGABYTES): 91.17\n",
       "=========================================================================================================\n",
       "Input size (MB): 19.27\n",
       "Forward/backward pass size (MB): 6234.07\n",
       "Params size (MB): 81.22\n",
       "Estimated Total Size (MB): 6334.56\n",
       "========================================================================================================="
      ]
     },
     "execution_count": 84,
     "metadata": {},
     "output_type": "execute_result"
    }
   ],
   "source": [
    "summary(model, input_size=(32, 3, 224, 224))"
   ]
  },
  {
   "cell_type": "code",
   "execution_count": null,
   "id": "109072ef-273d-4228-b4d1-76c4887b6e02",
   "metadata": {},
   "outputs": [],
   "source": []
  },
  {
   "cell_type": "code",
   "execution_count": 20,
   "id": "8ef2d309-738c-446a-bde5-dab23b5aa407",
   "metadata": {},
   "outputs": [
    {
     "name": "stderr",
     "output_type": "stream",
     "text": [
      "Epoch [1/30]: 100%|████████████████████████████████████| 391/391 [00:20<00:00, 18.87it/s, loss=2.13]"
     ]
    },
    {
     "name": "stdout",
     "output_type": "stream",
     "text": [
      "Epoch [1/30], Loss: 2.8834, Accuracy: 28.73%\n"
     ]
    },
    {
     "name": "stderr",
     "output_type": "stream",
     "text": [
      "\n"
     ]
    },
    {
     "name": "stdout",
     "output_type": "stream",
     "text": [
      "Test Accuracy: 46.47%\n",
      "Model checkpoint saved to ./model/efficientnet_v2_0.001_30_46.47_20241204_055710.safetensors.\n"
     ]
    },
    {
     "name": "stderr",
     "output_type": "stream",
     "text": [
      "Epoch [2/30]: 100%|████████████████████████████████████| 391/391 [00:20<00:00, 18.89it/s, loss=1.88]"
     ]
    },
    {
     "name": "stdout",
     "output_type": "stream",
     "text": [
      "Epoch [2/30], Loss: 1.8471, Accuracy: 49.24%\n"
     ]
    },
    {
     "name": "stderr",
     "output_type": "stream",
     "text": [
      "\n"
     ]
    },
    {
     "name": "stdout",
     "output_type": "stream",
     "text": [
      "Test Accuracy: 54.34%\n",
      "Model checkpoint saved to ./model/efficientnet_v2_0.001_30_54.34_20241204_055733.safetensors.\n"
     ]
    },
    {
     "name": "stderr",
     "output_type": "stream",
     "text": [
      "Epoch [3/30]: 100%|████████████████████████████████████| 391/391 [00:20<00:00, 19.33it/s, loss=1.54]"
     ]
    },
    {
     "name": "stdout",
     "output_type": "stream",
     "text": [
      "Epoch [3/30], Loss: 1.5800, Accuracy: 55.52%\n"
     ]
    },
    {
     "name": "stderr",
     "output_type": "stream",
     "text": [
      "\n"
     ]
    },
    {
     "name": "stdout",
     "output_type": "stream",
     "text": [
      "Test Accuracy: 56.91%\n",
      "Model checkpoint saved to ./model/efficientnet_v2_0.001_30_56.91_20241204_055755.safetensors.\n"
     ]
    },
    {
     "name": "stderr",
     "output_type": "stream",
     "text": [
      "Epoch [4/30]: 100%|████████████████████████████████████| 391/391 [00:20<00:00, 19.13it/s, loss=1.23]"
     ]
    },
    {
     "name": "stdout",
     "output_type": "stream",
     "text": [
      "Epoch [4/30], Loss: 1.4543, Accuracy: 58.88%\n"
     ]
    },
    {
     "name": "stderr",
     "output_type": "stream",
     "text": [
      "\n"
     ]
    },
    {
     "name": "stdout",
     "output_type": "stream",
     "text": [
      "Test Accuracy: 57.93%\n",
      "Model checkpoint saved to ./model/efficientnet_v2_0.001_30_57.93_20241204_055817.safetensors.\n"
     ]
    },
    {
     "name": "stderr",
     "output_type": "stream",
     "text": [
      "Epoch [5/30]: 100%|████████████████████████████████████| 391/391 [00:20<00:00, 18.85it/s, loss=1.22]\n"
     ]
    },
    {
     "name": "stdout",
     "output_type": "stream",
     "text": [
      "Epoch [5/30], Loss: 1.5281, Accuracy: 57.20%\n",
      "Test Accuracy: 55.93%\n"
     ]
    },
    {
     "name": "stderr",
     "output_type": "stream",
     "text": [
      "Epoch [6/30]: 100%|████████████████████████████████████| 391/391 [00:20<00:00, 19.24it/s, loss=1.36]"
     ]
    },
    {
     "name": "stdout",
     "output_type": "stream",
     "text": [
      "Epoch [6/30], Loss: 1.4083, Accuracy: 60.09%\n"
     ]
    },
    {
     "name": "stderr",
     "output_type": "stream",
     "text": [
      "\n"
     ]
    },
    {
     "name": "stdout",
     "output_type": "stream",
     "text": [
      "Test Accuracy: 57.96%\n",
      "Model checkpoint saved to ./model/efficientnet_v2_0.001_30_57.96_20241204_055901.safetensors.\n"
     ]
    },
    {
     "name": "stderr",
     "output_type": "stream",
     "text": [
      "Epoch [7/30]: 100%|████████████████████████████████████| 391/391 [00:20<00:00, 19.42it/s, loss=1.63]"
     ]
    },
    {
     "name": "stdout",
     "output_type": "stream",
     "text": [
      "Epoch [7/30], Loss: 1.3777, Accuracy: 60.64%\n"
     ]
    },
    {
     "name": "stderr",
     "output_type": "stream",
     "text": [
      "\n"
     ]
    },
    {
     "name": "stdout",
     "output_type": "stream",
     "text": [
      "Test Accuracy: 59.71%\n",
      "Model checkpoint saved to ./model/efficientnet_v2_0.001_30_59.71_20241204_055922.safetensors.\n"
     ]
    },
    {
     "name": "stderr",
     "output_type": "stream",
     "text": [
      "Epoch [8/30]: 100%|████████████████████████████████████| 391/391 [00:20<00:00, 19.30it/s, loss=1.03]"
     ]
    },
    {
     "name": "stdout",
     "output_type": "stream",
     "text": [
      "Epoch [8/30], Loss: 1.2605, Accuracy: 63.63%\n"
     ]
    },
    {
     "name": "stderr",
     "output_type": "stream",
     "text": [
      "\n"
     ]
    },
    {
     "name": "stdout",
     "output_type": "stream",
     "text": [
      "Test Accuracy: 60.57%\n",
      "Model checkpoint saved to ./model/efficientnet_v2_0.001_30_60.57_20241204_055944.safetensors.\n"
     ]
    },
    {
     "name": "stderr",
     "output_type": "stream",
     "text": [
      "Epoch [9/30]: 100%|████████████████████████████████████| 391/391 [00:20<00:00, 19.28it/s, loss=1.22]"
     ]
    },
    {
     "name": "stdout",
     "output_type": "stream",
     "text": [
      "Epoch [9/30], Loss: 1.1553, Accuracy: 66.36%\n"
     ]
    },
    {
     "name": "stderr",
     "output_type": "stream",
     "text": [
      "\n"
     ]
    },
    {
     "name": "stdout",
     "output_type": "stream",
     "text": [
      "Test Accuracy: 62.68%\n",
      "Model checkpoint saved to ./model/efficientnet_v2_0.001_30_62.68_20241204_060006.safetensors.\n"
     ]
    },
    {
     "name": "stderr",
     "output_type": "stream",
     "text": [
      "Epoch [10/30]: 100%|███████████████████████████████████| 391/391 [00:19<00:00, 19.69it/s, loss=1.03]"
     ]
    },
    {
     "name": "stdout",
     "output_type": "stream",
     "text": [
      "Epoch [10/30], Loss: 1.0535, Accuracy: 68.79%\n"
     ]
    },
    {
     "name": "stderr",
     "output_type": "stream",
     "text": [
      "\n"
     ]
    },
    {
     "name": "stdout",
     "output_type": "stream",
     "text": [
      "Test Accuracy: 63.15%\n",
      "Model checkpoint saved to ./model/efficientnet_v2_0.001_30_63.15_20241204_060027.safetensors.\n"
     ]
    },
    {
     "name": "stderr",
     "output_type": "stream",
     "text": [
      "Epoch [11/30]: 100%|███████████████████████████████████| 391/391 [00:19<00:00, 20.42it/s, loss=1.35]"
     ]
    },
    {
     "name": "stdout",
     "output_type": "stream",
     "text": [
      "Epoch [11/30], Loss: 1.0831, Accuracy: 68.05%\n"
     ]
    },
    {
     "name": "stderr",
     "output_type": "stream",
     "text": [
      "\n"
     ]
    },
    {
     "name": "stdout",
     "output_type": "stream",
     "text": [
      "Test Accuracy: 60.27%\n"
     ]
    },
    {
     "name": "stderr",
     "output_type": "stream",
     "text": [
      "Epoch [12/30]: 100%|██████████████████████████████████| 391/391 [00:19<00:00, 20.40it/s, loss=0.974]"
     ]
    },
    {
     "name": "stdout",
     "output_type": "stream",
     "text": [
      "Epoch [12/30], Loss: 1.0329, Accuracy: 69.42%\n"
     ]
    },
    {
     "name": "stderr",
     "output_type": "stream",
     "text": [
      "\n"
     ]
    },
    {
     "name": "stdout",
     "output_type": "stream",
     "text": [
      "Test Accuracy: 61.81%\n"
     ]
    },
    {
     "name": "stderr",
     "output_type": "stream",
     "text": [
      "Epoch [13/30]: 100%|███████████████████████████████████| 391/391 [00:19<00:00, 19.64it/s, loss=1.01]"
     ]
    },
    {
     "name": "stdout",
     "output_type": "stream",
     "text": [
      "Epoch [13/30], Loss: 0.9854, Accuracy: 70.45%\n"
     ]
    },
    {
     "name": "stderr",
     "output_type": "stream",
     "text": [
      "\n"
     ]
    },
    {
     "name": "stdout",
     "output_type": "stream",
     "text": [
      "Test Accuracy: 62.14%\n"
     ]
    },
    {
     "name": "stderr",
     "output_type": "stream",
     "text": [
      "Epoch [14/30]: 100%|███████████████████████████████████| 391/391 [00:19<00:00, 19.80it/s, loss=1.24]"
     ]
    },
    {
     "name": "stdout",
     "output_type": "stream",
     "text": [
      "Epoch [14/30], Loss: 0.9922, Accuracy: 70.37%\n"
     ]
    },
    {
     "name": "stderr",
     "output_type": "stream",
     "text": [
      "\n"
     ]
    },
    {
     "name": "stdout",
     "output_type": "stream",
     "text": [
      "Test Accuracy: 62.25%\n"
     ]
    },
    {
     "name": "stderr",
     "output_type": "stream",
     "text": [
      "Epoch [15/30]: 100%|██████████████████████████████████| 391/391 [00:19<00:00, 20.14it/s, loss=0.908]"
     ]
    },
    {
     "name": "stdout",
     "output_type": "stream",
     "text": [
      "Epoch [15/30], Loss: 0.9704, Accuracy: 70.83%\n"
     ]
    },
    {
     "name": "stderr",
     "output_type": "stream",
     "text": [
      "\n"
     ]
    },
    {
     "name": "stdout",
     "output_type": "stream",
     "text": [
      "Test Accuracy: 63.93%\n",
      "Model checkpoint saved to ./model/efficientnet_v2_0.001_30_63.93_20241204_060212.safetensors.\n"
     ]
    },
    {
     "name": "stderr",
     "output_type": "stream",
     "text": [
      "Epoch [16/30]: 100%|███████████████████████████████████| 391/391 [00:20<00:00, 19.28it/s, loss=0.92]"
     ]
    },
    {
     "name": "stdout",
     "output_type": "stream",
     "text": [
      "Epoch [16/30], Loss: 0.8690, Accuracy: 73.49%\n"
     ]
    },
    {
     "name": "stderr",
     "output_type": "stream",
     "text": [
      "\n"
     ]
    },
    {
     "name": "stdout",
     "output_type": "stream",
     "text": [
      "Test Accuracy: 63.98%\n",
      "Model checkpoint saved to ./model/efficientnet_v2_0.001_30_63.98_20241204_060234.safetensors.\n"
     ]
    },
    {
     "name": "stderr",
     "output_type": "stream",
     "text": [
      "Epoch [17/30]: 100%|███████████████████████████████████| 391/391 [00:19<00:00, 19.83it/s, loss=1.74]"
     ]
    },
    {
     "name": "stdout",
     "output_type": "stream",
     "text": [
      "Epoch [17/30], Loss: 0.8870, Accuracy: 73.34%\n"
     ]
    },
    {
     "name": "stderr",
     "output_type": "stream",
     "text": [
      "\n"
     ]
    },
    {
     "name": "stdout",
     "output_type": "stream",
     "text": [
      "Test Accuracy: 54.42%\n"
     ]
    },
    {
     "name": "stderr",
     "output_type": "stream",
     "text": [
      "Epoch [18/30]: 100%|████████████████████████████████████| 391/391 [00:19<00:00, 19.98it/s, loss=1.1]"
     ]
    },
    {
     "name": "stdout",
     "output_type": "stream",
     "text": [
      "Epoch [18/30], Loss: 0.8841, Accuracy: 72.97%\n"
     ]
    },
    {
     "name": "stderr",
     "output_type": "stream",
     "text": [
      "\n"
     ]
    },
    {
     "name": "stdout",
     "output_type": "stream",
     "text": [
      "Test Accuracy: 65.28%\n",
      "Model checkpoint saved to ./model/efficientnet_v2_0.001_30_65.28_20241204_060316.safetensors.\n"
     ]
    },
    {
     "name": "stderr",
     "output_type": "stream",
     "text": [
      "Epoch [19/30]: 100%|███████████████████████████████████| 391/391 [00:20<00:00, 19.09it/s, loss=1.15]"
     ]
    },
    {
     "name": "stdout",
     "output_type": "stream",
     "text": [
      "Epoch [19/30], Loss: 0.9878, Accuracy: 70.96%\n"
     ]
    },
    {
     "name": "stderr",
     "output_type": "stream",
     "text": [
      "\n"
     ]
    },
    {
     "name": "stdout",
     "output_type": "stream",
     "text": [
      "Test Accuracy: 62.12%\n"
     ]
    },
    {
     "name": "stderr",
     "output_type": "stream",
     "text": [
      "Epoch [20/30]: 100%|██████████████████████████████████| 391/391 [00:19<00:00, 20.34it/s, loss=0.879]"
     ]
    },
    {
     "name": "stdout",
     "output_type": "stream",
     "text": [
      "Epoch [20/30], Loss: 0.8336, Accuracy: 74.27%\n"
     ]
    },
    {
     "name": "stderr",
     "output_type": "stream",
     "text": [
      "\n"
     ]
    },
    {
     "name": "stdout",
     "output_type": "stream",
     "text": [
      "Test Accuracy: 63.74%\n"
     ]
    },
    {
     "name": "stderr",
     "output_type": "stream",
     "text": [
      "Epoch [21/30]: 100%|██████████████████████████████████| 391/391 [00:19<00:00, 19.57it/s, loss=0.766]"
     ]
    },
    {
     "name": "stdout",
     "output_type": "stream",
     "text": [
      "Epoch [21/30], Loss: 0.8222, Accuracy: 74.87%\n"
     ]
    },
    {
     "name": "stderr",
     "output_type": "stream",
     "text": [
      "\n"
     ]
    },
    {
     "name": "stdout",
     "output_type": "stream",
     "text": [
      "Test Accuracy: 63.87%\n"
     ]
    },
    {
     "name": "stderr",
     "output_type": "stream",
     "text": [
      "Epoch [22/30]: 100%|██████████████████████████████████| 391/391 [00:19<00:00, 19.92it/s, loss=0.689]"
     ]
    },
    {
     "name": "stdout",
     "output_type": "stream",
     "text": [
      "Epoch [22/30], Loss: 0.7690, Accuracy: 76.14%\n"
     ]
    },
    {
     "name": "stderr",
     "output_type": "stream",
     "text": [
      "\n"
     ]
    },
    {
     "name": "stdout",
     "output_type": "stream",
     "text": [
      "Test Accuracy: 64.36%\n"
     ]
    },
    {
     "name": "stderr",
     "output_type": "stream",
     "text": [
      "Epoch [23/30]: 100%|██████████████████████████████████| 391/391 [00:20<00:00, 19.30it/s, loss=0.573]"
     ]
    },
    {
     "name": "stdout",
     "output_type": "stream",
     "text": [
      "Epoch [23/30], Loss: 0.6651, Accuracy: 79.00%\n"
     ]
    },
    {
     "name": "stderr",
     "output_type": "stream",
     "text": [
      "\n"
     ]
    },
    {
     "name": "stdout",
     "output_type": "stream",
     "text": [
      "Test Accuracy: 65.04%\n"
     ]
    },
    {
     "name": "stderr",
     "output_type": "stream",
     "text": [
      "Epoch [24/30]: 100%|██████████████████████████████████| 391/391 [00:20<00:00, 19.19it/s, loss=0.595]"
     ]
    },
    {
     "name": "stdout",
     "output_type": "stream",
     "text": [
      "Epoch [24/30], Loss: 0.5930, Accuracy: 81.15%\n"
     ]
    },
    {
     "name": "stderr",
     "output_type": "stream",
     "text": [
      "\n"
     ]
    },
    {
     "name": "stdout",
     "output_type": "stream",
     "text": [
      "Test Accuracy: 65.31%\n",
      "Model checkpoint saved to ./model/efficientnet_v2_0.001_30_65.31_20241204_060524.safetensors.\n"
     ]
    },
    {
     "name": "stderr",
     "output_type": "stream",
     "text": [
      "Epoch [25/30]: 100%|██████████████████████████████████| 391/391 [00:19<00:00, 20.01it/s, loss=0.703]"
     ]
    },
    {
     "name": "stdout",
     "output_type": "stream",
     "text": [
      "Epoch [25/30], Loss: 0.5594, Accuracy: 82.23%\n"
     ]
    },
    {
     "name": "stderr",
     "output_type": "stream",
     "text": [
      "\n"
     ]
    },
    {
     "name": "stdout",
     "output_type": "stream",
     "text": [
      "Test Accuracy: 65.64%\n",
      "Model checkpoint saved to ./model/efficientnet_v2_0.001_30_65.64_20241204_060546.safetensors.\n"
     ]
    },
    {
     "name": "stderr",
     "output_type": "stream",
     "text": [
      "Epoch [26/30]: 100%|██████████████████████████████████| 391/391 [00:19<00:00, 19.82it/s, loss=0.704]"
     ]
    },
    {
     "name": "stdout",
     "output_type": "stream",
     "text": [
      "Epoch [26/30], Loss: 0.5299, Accuracy: 83.07%\n"
     ]
    },
    {
     "name": "stderr",
     "output_type": "stream",
     "text": [
      "\n"
     ]
    },
    {
     "name": "stdout",
     "output_type": "stream",
     "text": [
      "Test Accuracy: 64.36%\n"
     ]
    },
    {
     "name": "stderr",
     "output_type": "stream",
     "text": [
      "Epoch [27/30]: 100%|██████████████████████████████████| 391/391 [00:20<00:00, 19.23it/s, loss=0.569]\n"
     ]
    },
    {
     "name": "stdout",
     "output_type": "stream",
     "text": [
      "Epoch [27/30], Loss: 0.6660, Accuracy: 79.24%\n",
      "Test Accuracy: 64.55%\n"
     ]
    },
    {
     "name": "stderr",
     "output_type": "stream",
     "text": [
      "Epoch [28/30]: 100%|██████████████████████████████████| 391/391 [00:20<00:00, 19.47it/s, loss=0.468]"
     ]
    },
    {
     "name": "stdout",
     "output_type": "stream",
     "text": [
      "Epoch [28/30], Loss: 0.5046, Accuracy: 83.70%\n"
     ]
    },
    {
     "name": "stderr",
     "output_type": "stream",
     "text": [
      "\n"
     ]
    },
    {
     "name": "stdout",
     "output_type": "stream",
     "text": [
      "Test Accuracy: 64.99%\n"
     ]
    },
    {
     "name": "stderr",
     "output_type": "stream",
     "text": [
      "Epoch [29/30]: 100%|██████████████████████████████████| 391/391 [00:20<00:00, 19.35it/s, loss=0.502]"
     ]
    },
    {
     "name": "stdout",
     "output_type": "stream",
     "text": [
      "Epoch [29/30], Loss: 0.5025, Accuracy: 83.93%\n"
     ]
    },
    {
     "name": "stderr",
     "output_type": "stream",
     "text": [
      "\n"
     ]
    },
    {
     "name": "stdout",
     "output_type": "stream",
     "text": [
      "Test Accuracy: 64.78%\n"
     ]
    },
    {
     "name": "stderr",
     "output_type": "stream",
     "text": [
      "Epoch [30/30]: 100%|██████████████████████████████████| 391/391 [00:19<00:00, 19.59it/s, loss=0.675]"
     ]
    },
    {
     "name": "stdout",
     "output_type": "stream",
     "text": [
      "Epoch [30/30], Loss: 0.5079, Accuracy: 83.70%\n"
     ]
    },
    {
     "name": "stderr",
     "output_type": "stream",
     "text": [
      "\n"
     ]
    },
    {
     "name": "stdout",
     "output_type": "stream",
     "text": [
      "Test Accuracy: 64.18%\n"
     ]
    },
    {
     "data": {
      "image/png": "[encoded data removed]",
      "text/plain": [
       "<Figure size 1200x500 with 2 Axes>"
      ]
     },
     "metadata": {},
     "output_type": "display_data"
    },
    {
     "name": "stdout",
     "output_type": "stream",
     "text": [
      "Test Accuracy: 64.18%\n"
     ]
    },
    {
     "data": {
      "text/plain": [
       "64.18"
      ]
     },
     "execution_count": 20,
     "metadata": {},
     "output_type": "execute_result"
    }
   ],
   "source": [
    "# first pass\n",
    "train(model, train_loader, criterion, optimizer, scheduler, num_epochs, ncols=ncols)\n",
    "evaluate(model, test_loader)"
   ]
  },
  {
   "cell_type": "code",
   "execution_count": 58,
   "id": "4e7fd67d-47d8-424b-91b9-db8d2597831e",
   "metadata": {},
   "outputs": [],
   "source": [
    "%%capture\n",
    "load_checkpoint('./model/efficientnet_v2_0.001_30_65.64_20241204_060546.safetensors', model)"
   ]
  },
  {
   "cell_type": "code",
   "execution_count": 59,
   "id": "08955fca-a2a9-4d8a-b5a8-e25e4b69e4ab",
   "metadata": {},
   "outputs": [
    {
     "data": {
      "image/png": "[encoded data removed]",
      "text/plain": [
       "<Figure size 2100x1900 with 16 Axes>"
      ]
     },
     "metadata": {},
     "output_type": "display_data"
    }
   ],
   "source": [
    "validations(model, test_loader, classes=test_loader.dataset.classes, num_examples=20)"
   ]
  },
  {
   "cell_type": "code",
   "execution_count": null,
   "id": "fd26abb2-669d-4382-b01c-96f6e65ae288",
   "metadata": {},
   "outputs": [],
   "source": []
  },
  {
   "cell_type": "markdown",
   "id": "6b5c3c89-0ab3-46c6-ad53-41297842e4e0",
   "metadata": {},
   "source": [
    "---\n",
    "maybe we need to patch here?"
   ]
  },
  {
   "cell_type": "code",
   "execution_count": 95,
   "id": "ba9c10d2-7922-4b29-a5e5-c95ae9f90ae9",
   "metadata": {},
   "outputs": [],
   "source": [
    "## hmm, we might need to patch efficientnet such that it works with CIFAR100, let's just use a bigger variants for now\n",
    "model = init_model(variants='L')\n",
    "optimizer = optim.SGD(model.parameters(), lr=lr, momentum=0.9, weight_decay=1e-4)\n",
    "criterion = nn.CrossEntropyLoss(label_smoothing=0.1)  # Add label smoothing\n",
    "scheduler = optim.lr_scheduler.CosineAnnealingWarmRestarts(optimizer, T_0=5, T_mult=2, eta_min=1e-6)"
   ]
  },
  {
   "cell_type": "code",
   "execution_count": 89,
   "id": "4a1870da-419c-4a32-a7e6-48c73e92a74d",
   "metadata": {
    "scrolled": true
   },
   "outputs": [
    {
     "data": {
      "text/plain": [
       "=========================================================================================================\n",
       "Layer (type:depth-idx)                                  Output Shape              Param #\n",
       "=========================================================================================================\n",
       "EfficientNet                                            [32, 100]                 --\n",
       "├─Sequential: 1-1                                       [32, 1280, 7, 7]          --\n",
       "│    └─Conv2dNormActivation: 2-1                        [32, 32, 112, 112]        --\n",
       "│    │    └─Conv2d: 3-1                                 [32, 32, 112, 112]        864\n",
       "│    │    └─BatchNorm2d: 3-2                            [32, 32, 112, 112]        64\n",
       "│    │    └─SiLU: 3-3                                   [32, 32, 112, 112]        --\n",
       "│    └─Sequential: 2-2                                  [32, 32, 112, 112]        --\n",
       "│    │    └─FusedMBConv: 3-4                            [32, 32, 112, 112]        9,280\n",
       "│    │    └─FusedMBConv: 3-5                            [32, 32, 112, 112]        9,280\n",
       "│    │    └─FusedMBConv: 3-6                            [32, 32, 112, 112]        9,280\n",
       "│    │    └─FusedMBConv: 3-7                            [32, 32, 112, 112]        9,280\n",
       "│    └─Sequential: 2-3                                  [32, 64, 56, 56]          --\n",
       "│    │    └─FusedMBConv: 3-8                            [32, 64, 56, 56]          45,440\n",
       "│    │    └─FusedMBConv: 3-9                            [32, 64, 56, 56]          164,480\n",
       "│    │    └─FusedMBConv: 3-10                           [32, 64, 56, 56]          164,480\n",
       "│    │    └─FusedMBConv: 3-11                           [32, 64, 56, 56]          164,480\n",
       "│    │    └─FusedMBConv: 3-12                           [32, 64, 56, 56]          164,480\n",
       "│    │    └─FusedMBConv: 3-13                           [32, 64, 56, 56]          164,480\n",
       "│    │    └─FusedMBConv: 3-14                           [32, 64, 56, 56]          164,480\n",
       "│    └─Sequential: 2-4                                  [32, 96, 28, 28]          --\n",
       "│    │    └─FusedMBConv: 3-15                           [32, 96, 28, 28]          172,736\n",
       "│    │    └─FusedMBConv: 3-16                           [32, 96, 28, 28]          369,600\n",
       "│    │    └─FusedMBConv: 3-17                           [32, 96, 28, 28]          369,600\n",
       "│    │    └─FusedMBConv: 3-18                           [32, 96, 28, 28]          369,600\n",
       "│    │    └─FusedMBConv: 3-19                           [32, 96, 28, 28]          369,600\n",
       "│    │    └─FusedMBConv: 3-20                           [32, 96, 28, 28]          369,600\n",
       "│    │    └─FusedMBConv: 3-21                           [32, 96, 28, 28]          369,600\n",
       "│    └─Sequential: 2-5                                  [32, 192, 14, 14]         --\n",
       "│    │    └─MBConv: 3-22                                [32, 192, 14, 14]         134,808\n",
       "│    │    └─MBConv: 3-23                                [32, 192, 14, 14]         379,824\n",
       "│    │    └─MBConv: 3-24                                [32, 192, 14, 14]         379,824\n",
       "│    │    └─MBConv: 3-25                                [32, 192, 14, 14]         379,824\n",
       "│    │    └─MBConv: 3-26                                [32, 192, 14, 14]         379,824\n",
       "│    │    └─MBConv: 3-27                                [32, 192, 14, 14]         379,824\n",
       "│    │    └─MBConv: 3-28                                [32, 192, 14, 14]         379,824\n",
       "│    │    └─MBConv: 3-29                                [32, 192, 14, 14]         379,824\n",
       "│    │    └─MBConv: 3-30                                [32, 192, 14, 14]         379,824\n",
       "│    │    └─MBConv: 3-31                                [32, 192, 14, 14]         379,824\n",
       "│    └─Sequential: 2-6                                  [32, 224, 14, 14]         --\n",
       "│    │    └─MBConv: 3-32                                [32, 224, 14, 14]         606,448\n",
       "│    │    └─MBConv: 3-33                                [32, 224, 14, 14]         771,960\n",
       "│    │    └─MBConv: 3-34                                [32, 224, 14, 14]         771,960\n",
       "│    │    └─MBConv: 3-35                                [32, 224, 14, 14]         771,960\n",
       "│    │    └─MBConv: 3-36                                [32, 224, 14, 14]         771,960\n",
       "│    │    └─MBConv: 3-37                                [32, 224, 14, 14]         771,960\n",
       "│    │    └─MBConv: 3-38                                [32, 224, 14, 14]         771,960\n",
       "│    │    └─MBConv: 3-39                                [32, 224, 14, 14]         771,960\n",
       "│    │    └─MBConv: 3-40                                [32, 224, 14, 14]         771,960\n",
       "│    │    └─MBConv: 3-41                                [32, 224, 14, 14]         771,960\n",
       "│    │    └─MBConv: 3-42                                [32, 224, 14, 14]         771,960\n",
       "│    │    └─MBConv: 3-43                                [32, 224, 14, 14]         771,960\n",
       "│    │    └─MBConv: 3-44                                [32, 224, 14, 14]         771,960\n",
       "│    │    └─MBConv: 3-45                                [32, 224, 14, 14]         771,960\n",
       "│    │    └─MBConv: 3-46                                [32, 224, 14, 14]         771,960\n",
       "│    │    └─MBConv: 3-47                                [32, 224, 14, 14]         771,960\n",
       "│    │    └─MBConv: 3-48                                [32, 224, 14, 14]         771,960\n",
       "│    │    └─MBConv: 3-49                                [32, 224, 14, 14]         771,960\n",
       "│    │    └─MBConv: 3-50                                [32, 224, 14, 14]         771,960\n",
       "│    └─Sequential: 2-7                                  [32, 384, 7, 7]           --\n",
       "│    │    └─MBConv: 3-51                                [32, 384, 7, 7]           987,320\n",
       "│    │    └─MBConv: 3-52                                [32, 384, 7, 7]           2,244,960\n",
       "│    │    └─MBConv: 3-53                                [32, 384, 7, 7]           2,244,960\n",
       "│    │    └─MBConv: 3-54                                [32, 384, 7, 7]           2,244,960\n",
       "│    │    └─MBConv: 3-55                                [32, 384, 7, 7]           2,244,960\n",
       "│    │    └─MBConv: 3-56                                [32, 384, 7, 7]           2,244,960\n",
       "│    │    └─MBConv: 3-57                                [32, 384, 7, 7]           2,244,960\n",
       "│    │    └─MBConv: 3-58                                [32, 384, 7, 7]           2,244,960\n",
       "│    │    └─MBConv: 3-59                                [32, 384, 7, 7]           2,244,960\n",
       "│    │    └─MBConv: 3-60                                [32, 384, 7, 7]           2,244,960\n",
       "│    │    └─MBConv: 3-61                                [32, 384, 7, 7]           2,244,960\n",
       "│    │    └─MBConv: 3-62                                [32, 384, 7, 7]           2,244,960\n",
       "│    │    └─MBConv: 3-63                                [32, 384, 7, 7]           2,244,960\n",
       "│    │    └─MBConv: 3-64                                [32, 384, 7, 7]           2,244,960\n",
       "│    │    └─MBConv: 3-65                                [32, 384, 7, 7]           2,244,960\n",
       "│    │    └─MBConv: 3-66                                [32, 384, 7, 7]           2,244,960\n",
       "│    │    └─MBConv: 3-67                                [32, 384, 7, 7]           2,244,960\n",
       "│    │    └─MBConv: 3-68                                [32, 384, 7, 7]           2,244,960\n",
       "│    │    └─MBConv: 3-69                                [32, 384, 7, 7]           2,244,960\n",
       "│    │    └─MBConv: 3-70                                [32, 384, 7, 7]           2,244,960\n",
       "│    │    └─MBConv: 3-71                                [32, 384, 7, 7]           2,244,960\n",
       "│    │    └─MBConv: 3-72                                [32, 384, 7, 7]           2,244,960\n",
       "│    │    └─MBConv: 3-73                                [32, 384, 7, 7]           2,244,960\n",
       "│    │    └─MBConv: 3-74                                [32, 384, 7, 7]           2,244,960\n",
       "│    │    └─MBConv: 3-75                                [32, 384, 7, 7]           2,244,960\n",
       "│    └─Sequential: 2-8                                  [32, 640, 7, 7]           --\n",
       "│    │    └─MBConv: 3-76                                [32, 640, 7, 7]           2,835,296\n",
       "│    │    └─MBConv: 3-77                                [32, 640, 7, 7]           6,199,200\n",
       "│    │    └─MBConv: 3-78                                [32, 640, 7, 7]           6,199,200\n",
       "│    │    └─MBConv: 3-79                                [32, 640, 7, 7]           6,199,200\n",
       "│    │    └─MBConv: 3-80                                [32, 640, 7, 7]           6,199,200\n",
       "│    │    └─MBConv: 3-81                                [32, 640, 7, 7]           6,199,200\n",
       "│    │    └─MBConv: 3-82                                [32, 640, 7, 7]           6,199,200\n",
       "│    └─Conv2dNormActivation: 2-9                        [32, 1280, 7, 7]          --\n",
       "│    │    └─Conv2d: 3-83                                [32, 1280, 7, 7]          819,200\n",
       "│    │    └─BatchNorm2d: 3-84                           [32, 1280, 7, 7]          2,560\n",
       "│    │    └─SiLU: 3-85                                  [32, 1280, 7, 7]          --\n",
       "├─AdaptiveAvgPool2d: 1-2                                [32, 1280, 1, 1]          --\n",
       "├─Sequential: 1-3                                       [32, 100]                 --\n",
       "│    └─Dropout: 2-10                                    [32, 1280]                --\n",
       "│    └─Linear: 2-11                                     [32, 100]                 128,100\n",
       "=========================================================================================================\n",
       "Total params: 117,362,372\n",
       "Trainable params: 117,362,372\n",
       "Non-trainable params: 0\n",
       "Total mult-adds (Units.GIGABYTES): 391.38\n",
       "=========================================================================================================\n",
       "Input size (MB): 19.27\n",
       "Forward/backward pass size (MB): 17633.17\n",
       "Params size (MB): 469.45\n",
       "Estimated Total Size (MB): 18121.89\n",
       "========================================================================================================="
      ]
     },
     "execution_count": 89,
     "metadata": {},
     "output_type": "execute_result"
    }
   ],
   "source": [
    "summary(model, input_size=(32, 3, 224, 224))"
   ]
  },
  {
   "cell_type": "code",
   "execution_count": 90,
   "id": "c9a7438f-1dd9-4769-8d2a-c0585f689a58",
   "metadata": {},
   "outputs": [
    {
     "name": "stderr",
     "output_type": "stream",
     "text": [
      "Epoch [1/30]: 100%|████████████████████████████████████| 391/391 [00:39<00:00,  9.81it/s, loss=3.45]"
     ]
    },
    {
     "name": "stdout",
     "output_type": "stream",
     "text": [
      "Epoch [1/30], Loss: 4.0097, Accuracy: 11.31%\n"
     ]
    },
    {
     "name": "stderr",
     "output_type": "stream",
     "text": [
      "\n"
     ]
    },
    {
     "name": "stdout",
     "output_type": "stream",
     "text": [
      "Test Accuracy: 30.47%\n",
      "Model checkpoint saved to ./model/efficientnet_v2_0.01_30_L_30.47_20241204_070203.safetensors.\n"
     ]
    },
    {
     "name": "stderr",
     "output_type": "stream",
     "text": [
      "Epoch [2/30]: 100%|████████████████████████████████████| 391/391 [00:39<00:00,  9.80it/s, loss=2.85]"
     ]
    },
    {
     "name": "stdout",
     "output_type": "stream",
     "text": [
      "Epoch [2/30], Loss: 2.9738, Accuracy: 32.93%\n"
     ]
    },
    {
     "name": "stderr",
     "output_type": "stream",
     "text": [
      "\n"
     ]
    },
    {
     "name": "stdout",
     "output_type": "stream",
     "text": [
      "Test Accuracy: 46.06%\n",
      "Model checkpoint saved to ./model/efficientnet_v2_0.01_30_L_46.06_20241204_070247.safetensors.\n"
     ]
    },
    {
     "name": "stderr",
     "output_type": "stream",
     "text": [
      "Epoch [3/30]: 100%|████████████████████████████████████| 391/391 [00:40<00:00,  9.61it/s, loss=2.66]"
     ]
    },
    {
     "name": "stdout",
     "output_type": "stream",
     "text": [
      "Epoch [3/30], Loss: 2.5264, Accuracy: 45.25%\n"
     ]
    },
    {
     "name": "stderr",
     "output_type": "stream",
     "text": [
      "\n"
     ]
    },
    {
     "name": "stdout",
     "output_type": "stream",
     "text": [
      "Test Accuracy: 52.72%\n",
      "Model checkpoint saved to ./model/efficientnet_v2_0.01_30_L_52.72_20241204_070331.safetensors.\n"
     ]
    },
    {
     "name": "stderr",
     "output_type": "stream",
     "text": [
      "Epoch [4/30]: 100%|████████████████████████████████████| 391/391 [00:39<00:00,  9.79it/s, loss=2.26]"
     ]
    },
    {
     "name": "stdout",
     "output_type": "stream",
     "text": [
      "Epoch [4/30], Loss: 2.2879, Accuracy: 52.32%\n"
     ]
    },
    {
     "name": "stderr",
     "output_type": "stream",
     "text": [
      "\n"
     ]
    },
    {
     "name": "stdout",
     "output_type": "stream",
     "text": [
      "Test Accuracy: 56.63%\n",
      "Model checkpoint saved to ./model/efficientnet_v2_0.01_30_L_56.63_20241204_070415.safetensors.\n"
     ]
    },
    {
     "name": "stderr",
     "output_type": "stream",
     "text": [
      "Epoch [5/30]: 100%|████████████████████████████████████| 391/391 [00:39<00:00,  9.80it/s, loss=1.98]"
     ]
    },
    {
     "name": "stdout",
     "output_type": "stream",
     "text": [
      "Epoch [5/30], Loss: 2.1588, Accuracy: 56.12%\n"
     ]
    },
    {
     "name": "stderr",
     "output_type": "stream",
     "text": [
      "\n"
     ]
    },
    {
     "name": "stdout",
     "output_type": "stream",
     "text": [
      "Test Accuracy: 57.75%\n",
      "Model checkpoint saved to ./model/efficientnet_v2_0.01_30_L_57.75_20241204_070459.safetensors.\n"
     ]
    },
    {
     "name": "stderr",
     "output_type": "stream",
     "text": [
      "Epoch [6/30]: 100%|████████████████████████████████████| 391/391 [00:40<00:00,  9.71it/s, loss=2.61]"
     ]
    },
    {
     "name": "stdout",
     "output_type": "stream",
     "text": [
      "Epoch [6/30], Loss: 2.2598, Accuracy: 53.50%\n"
     ]
    },
    {
     "name": "stderr",
     "output_type": "stream",
     "text": [
      "\n"
     ]
    },
    {
     "name": "stdout",
     "output_type": "stream",
     "text": [
      "Test Accuracy: 58.20%\n",
      "Model checkpoint saved to ./model/efficientnet_v2_0.01_30_L_58.20_20241204_070543.safetensors.\n"
     ]
    },
    {
     "name": "stderr",
     "output_type": "stream",
     "text": [
      "Epoch [7/30]: 100%|████████████████████████████████████| 391/391 [00:39<00:00,  9.80it/s, loss=2.22]"
     ]
    },
    {
     "name": "stdout",
     "output_type": "stream",
     "text": [
      "Epoch [7/30], Loss: 2.1071, Accuracy: 58.21%\n"
     ]
    },
    {
     "name": "stderr",
     "output_type": "stream",
     "text": [
      "\n"
     ]
    },
    {
     "name": "stdout",
     "output_type": "stream",
     "text": [
      "Test Accuracy: 60.86%\n",
      "Model checkpoint saved to ./model/efficientnet_v2_0.01_30_L_60.86_20241204_070627.safetensors.\n"
     ]
    },
    {
     "name": "stderr",
     "output_type": "stream",
     "text": [
      "Epoch [8/30]: 100%|████████████████████████████████████| 391/391 [00:39<00:00,  9.78it/s, loss=2.28]"
     ]
    },
    {
     "name": "stdout",
     "output_type": "stream",
     "text": [
      "Epoch [8/30], Loss: 1.9694, Accuracy: 62.34%\n"
     ]
    },
    {
     "name": "stderr",
     "output_type": "stream",
     "text": [
      "\n"
     ]
    },
    {
     "name": "stdout",
     "output_type": "stream",
     "text": [
      "Test Accuracy: 62.56%\n",
      "Model checkpoint saved to ./model/efficientnet_v2_0.01_30_L_62.56_20241204_070711.safetensors.\n"
     ]
    },
    {
     "name": "stderr",
     "output_type": "stream",
     "text": [
      "Epoch [9/30]: 100%|████████████████████████████████████| 391/391 [00:39<00:00,  9.80it/s, loss=1.94]"
     ]
    },
    {
     "name": "stdout",
     "output_type": "stream",
     "text": [
      "Epoch [9/30], Loss: 1.8575, Accuracy: 65.80%\n"
     ]
    },
    {
     "name": "stderr",
     "output_type": "stream",
     "text": [
      "\n"
     ]
    },
    {
     "name": "stdout",
     "output_type": "stream",
     "text": [
      "Test Accuracy: 63.88%\n",
      "Model checkpoint saved to ./model/efficientnet_v2_0.01_30_L_63.88_20241204_070755.safetensors.\n"
     ]
    },
    {
     "name": "stderr",
     "output_type": "stream",
     "text": [
      "Epoch [10/30]: 100%|███████████████████████████████████| 391/391 [00:40<00:00,  9.76it/s, loss=1.77]"
     ]
    },
    {
     "name": "stdout",
     "output_type": "stream",
     "text": [
      "Epoch [10/30], Loss: 1.7592, Accuracy: 68.92%\n"
     ]
    },
    {
     "name": "stderr",
     "output_type": "stream",
     "text": [
      "\n"
     ]
    },
    {
     "name": "stdout",
     "output_type": "stream",
     "text": [
      "Test Accuracy: 65.95%\n",
      "Model checkpoint saved to ./model/efficientnet_v2_0.01_30_L_65.95_20241204_070839.safetensors.\n"
     ]
    },
    {
     "name": "stderr",
     "output_type": "stream",
     "text": [
      "Epoch [11/30]: 100%|███████████████████████████████████| 391/391 [00:39<00:00,  9.87it/s, loss=1.75]"
     ]
    },
    {
     "name": "stdout",
     "output_type": "stream",
     "text": [
      "Epoch [11/30], Loss: 1.6733, Accuracy: 71.67%\n"
     ]
    },
    {
     "name": "stderr",
     "output_type": "stream",
     "text": [
      "\n"
     ]
    },
    {
     "name": "stdout",
     "output_type": "stream",
     "text": [
      "Test Accuracy: 66.91%\n",
      "Model checkpoint saved to ./model/efficientnet_v2_0.01_30_L_66.91_20241204_070923.safetensors.\n"
     ]
    },
    {
     "name": "stderr",
     "output_type": "stream",
     "text": [
      "Epoch [12/30]: 100%|███████████████████████████████████| 391/391 [00:40<00:00,  9.71it/s, loss=1.54]"
     ]
    },
    {
     "name": "stdout",
     "output_type": "stream",
     "text": [
      "Epoch [12/30], Loss: 1.5973, Accuracy: 74.06%\n"
     ]
    },
    {
     "name": "stderr",
     "output_type": "stream",
     "text": [
      "\n"
     ]
    },
    {
     "name": "stdout",
     "output_type": "stream",
     "text": [
      "Test Accuracy: 67.40%\n",
      "Model checkpoint saved to ./model/efficientnet_v2_0.01_30_L_67.40_20241204_071007.safetensors.\n"
     ]
    },
    {
     "name": "stderr",
     "output_type": "stream",
     "text": [
      "Epoch [13/30]: 100%|███████████████████████████████████| 391/391 [00:39<00:00,  9.85it/s, loss=1.58]"
     ]
    },
    {
     "name": "stdout",
     "output_type": "stream",
     "text": [
      "Epoch [13/30], Loss: 1.5332, Accuracy: 76.35%\n"
     ]
    },
    {
     "name": "stderr",
     "output_type": "stream",
     "text": [
      "\n"
     ]
    },
    {
     "name": "stdout",
     "output_type": "stream",
     "text": [
      "Test Accuracy: 68.09%\n",
      "Model checkpoint saved to ./model/efficientnet_v2_0.01_30_L_68.09_20241204_071051.safetensors.\n"
     ]
    },
    {
     "name": "stderr",
     "output_type": "stream",
     "text": [
      "Epoch [14/30]: 100%|███████████████████████████████████| 391/391 [00:39<00:00,  9.80it/s, loss=1.43]"
     ]
    },
    {
     "name": "stdout",
     "output_type": "stream",
     "text": [
      "Epoch [14/30], Loss: 1.4983, Accuracy: 77.50%\n"
     ]
    },
    {
     "name": "stderr",
     "output_type": "stream",
     "text": [
      "\n"
     ]
    },
    {
     "name": "stdout",
     "output_type": "stream",
     "text": [
      "Test Accuracy: 68.31%\n",
      "Model checkpoint saved to ./model/efficientnet_v2_0.01_30_L_68.31_20241204_071135.safetensors.\n"
     ]
    },
    {
     "name": "stderr",
     "output_type": "stream",
     "text": [
      "Epoch [15/30]: 100%|███████████████████████████████████| 391/391 [00:39<00:00,  9.89it/s, loss=1.66]"
     ]
    },
    {
     "name": "stdout",
     "output_type": "stream",
     "text": [
      "Epoch [15/30], Loss: 1.4736, Accuracy: 78.30%\n"
     ]
    },
    {
     "name": "stderr",
     "output_type": "stream",
     "text": [
      "\n"
     ]
    },
    {
     "name": "stdout",
     "output_type": "stream",
     "text": [
      "Test Accuracy: 68.24%\n"
     ]
    },
    {
     "name": "stderr",
     "output_type": "stream",
     "text": [
      "Epoch [16/30]: 100%|███████████████████████████████████| 391/391 [00:39<00:00,  9.88it/s, loss=1.61]"
     ]
    },
    {
     "name": "stdout",
     "output_type": "stream",
     "text": [
      "Epoch [16/30], Loss: 1.6510, Accuracy: 72.43%\n"
     ]
    },
    {
     "name": "stderr",
     "output_type": "stream",
     "text": [
      "\n"
     ]
    },
    {
     "name": "stdout",
     "output_type": "stream",
     "text": [
      "Test Accuracy: 65.32%\n"
     ]
    },
    {
     "name": "stderr",
     "output_type": "stream",
     "text": [
      "Epoch [17/30]: 100%|███████████████████████████████████| 391/391 [00:40<00:00,  9.77it/s, loss=1.84]"
     ]
    },
    {
     "name": "stdout",
     "output_type": "stream",
     "text": [
      "Epoch [17/30], Loss: 1.6160, Accuracy: 73.48%\n"
     ]
    },
    {
     "name": "stderr",
     "output_type": "stream",
     "text": [
      "\n"
     ]
    },
    {
     "name": "stdout",
     "output_type": "stream",
     "text": [
      "Test Accuracy: 66.85%\n"
     ]
    },
    {
     "name": "stderr",
     "output_type": "stream",
     "text": [
      "Epoch [18/30]: 100%|███████████████████████████████████| 391/391 [00:39<00:00,  9.97it/s, loss=1.71]"
     ]
    },
    {
     "name": "stdout",
     "output_type": "stream",
     "text": [
      "Epoch [18/30], Loss: 1.5720, Accuracy: 75.07%\n"
     ]
    },
    {
     "name": "stderr",
     "output_type": "stream",
     "text": [
      "\n"
     ]
    },
    {
     "name": "stdout",
     "output_type": "stream",
     "text": [
      "Test Accuracy: 67.30%\n"
     ]
    },
    {
     "name": "stderr",
     "output_type": "stream",
     "text": [
      "Epoch [19/30]: 100%|████████████████████████████████████| 391/391 [00:39<00:00, 10.02it/s, loss=1.5]"
     ]
    },
    {
     "name": "stdout",
     "output_type": "stream",
     "text": [
      "Epoch [19/30], Loss: 1.5090, Accuracy: 77.10%\n"
     ]
    },
    {
     "name": "stderr",
     "output_type": "stream",
     "text": [
      "\n"
     ]
    },
    {
     "name": "stdout",
     "output_type": "stream",
     "text": [
      "Test Accuracy: 67.50%\n"
     ]
    },
    {
     "name": "stderr",
     "output_type": "stream",
     "text": [
      "Epoch [20/30]: 100%|███████████████████████████████████| 391/391 [00:40<00:00,  9.75it/s, loss=1.64]"
     ]
    },
    {
     "name": "stdout",
     "output_type": "stream",
     "text": [
      "Epoch [20/30], Loss: 1.4539, Accuracy: 78.84%\n"
     ]
    },
    {
     "name": "stderr",
     "output_type": "stream",
     "text": [
      "\n"
     ]
    },
    {
     "name": "stdout",
     "output_type": "stream",
     "text": [
      "Test Accuracy: 68.77%\n",
      "Model checkpoint saved to ./model/efficientnet_v2_0.01_30_L_68.77_20241204_071553.safetensors.\n"
     ]
    },
    {
     "name": "stderr",
     "output_type": "stream",
     "text": [
      "Epoch [21/30]: 100%|███████████████████████████████████| 391/391 [00:39<00:00, 10.02it/s, loss=1.65]"
     ]
    },
    {
     "name": "stdout",
     "output_type": "stream",
     "text": [
      "Epoch [21/30], Loss: 1.4045, Accuracy: 80.70%\n"
     ]
    },
    {
     "name": "stderr",
     "output_type": "stream",
     "text": [
      "\n"
     ]
    },
    {
     "name": "stdout",
     "output_type": "stream",
     "text": [
      "Test Accuracy: 69.15%\n",
      "Model checkpoint saved to ./model/efficientnet_v2_0.01_30_L_69.15_20241204_071636.safetensors.\n"
     ]
    },
    {
     "name": "stderr",
     "output_type": "stream",
     "text": [
      "Epoch [22/30]: 100%|███████████████████████████████████| 391/391 [00:39<00:00,  9.78it/s, loss=1.32]"
     ]
    },
    {
     "name": "stdout",
     "output_type": "stream",
     "text": [
      "Epoch [22/30], Loss: 1.3451, Accuracy: 82.60%\n"
     ]
    },
    {
     "name": "stderr",
     "output_type": "stream",
     "text": [
      "\n"
     ]
    },
    {
     "name": "stdout",
     "output_type": "stream",
     "text": [
      "Test Accuracy: 69.28%\n",
      "Model checkpoint saved to ./model/efficientnet_v2_0.01_30_L_69.28_20241204_071719.safetensors.\n"
     ]
    },
    {
     "name": "stderr",
     "output_type": "stream",
     "text": [
      "Epoch [23/30]: 100%|███████████████████████████████████| 391/391 [00:39<00:00, 10.01it/s, loss=1.33]"
     ]
    },
    {
     "name": "stdout",
     "output_type": "stream",
     "text": [
      "Epoch [23/30], Loss: 1.2962, Accuracy: 84.46%\n"
     ]
    },
    {
     "name": "stderr",
     "output_type": "stream",
     "text": [
      "\n"
     ]
    },
    {
     "name": "stdout",
     "output_type": "stream",
     "text": [
      "Test Accuracy: 69.41%\n",
      "Model checkpoint saved to ./model/efficientnet_v2_0.01_30_L_69.41_20241204_071802.safetensors.\n"
     ]
    },
    {
     "name": "stderr",
     "output_type": "stream",
     "text": [
      "Epoch [24/30]: 100%|███████████████████████████████████| 391/391 [00:39<00:00,  9.88it/s, loss=1.16]"
     ]
    },
    {
     "name": "stdout",
     "output_type": "stream",
     "text": [
      "Epoch [24/30], Loss: 1.2591, Accuracy: 85.63%\n"
     ]
    },
    {
     "name": "stderr",
     "output_type": "stream",
     "text": [
      "\n"
     ]
    },
    {
     "name": "stdout",
     "output_type": "stream",
     "text": [
      "Test Accuracy: 69.81%\n",
      "Model checkpoint saved to ./model/efficientnet_v2_0.01_30_L_69.81_20241204_071846.safetensors.\n"
     ]
    },
    {
     "name": "stderr",
     "output_type": "stream",
     "text": [
      "Epoch [25/30]: 100%|███████████████████████████████████| 391/391 [00:39<00:00,  9.95it/s, loss=1.27]"
     ]
    },
    {
     "name": "stdout",
     "output_type": "stream",
     "text": [
      "Epoch [25/30], Loss: 1.2132, Accuracy: 87.36%\n"
     ]
    },
    {
     "name": "stderr",
     "output_type": "stream",
     "text": [
      "\n"
     ]
    },
    {
     "name": "stdout",
     "output_type": "stream",
     "text": [
      "Test Accuracy: 70.09%\n",
      "Model checkpoint saved to ./model/efficientnet_v2_0.01_30_L_70.09_20241204_071929.safetensors.\n"
     ]
    },
    {
     "name": "stderr",
     "output_type": "stream",
     "text": [
      "Epoch [26/30]: 100%|████████████████████████████████████| 391/391 [00:40<00:00,  9.68it/s, loss=1.2]"
     ]
    },
    {
     "name": "stdout",
     "output_type": "stream",
     "text": [
      "Epoch [26/30], Loss: 1.1713, Accuracy: 88.86%\n"
     ]
    },
    {
     "name": "stderr",
     "output_type": "stream",
     "text": [
      "\n"
     ]
    },
    {
     "name": "stdout",
     "output_type": "stream",
     "text": [
      "Test Accuracy: 70.34%\n",
      "Model checkpoint saved to ./model/efficientnet_v2_0.01_30_L_70.34_20241204_072014.safetensors.\n"
     ]
    },
    {
     "name": "stderr",
     "output_type": "stream",
     "text": [
      "Epoch [27/30]: 100%|████████████████████████████████████| 391/391 [00:39<00:00,  9.84it/s, loss=1.2]"
     ]
    },
    {
     "name": "stdout",
     "output_type": "stream",
     "text": [
      "Epoch [27/30], Loss: 1.1378, Accuracy: 90.01%\n"
     ]
    },
    {
     "name": "stderr",
     "output_type": "stream",
     "text": [
      "\n"
     ]
    },
    {
     "name": "stdout",
     "output_type": "stream",
     "text": [
      "Test Accuracy: 70.62%\n",
      "Model checkpoint saved to ./model/efficientnet_v2_0.01_30_L_70.62_20241204_072057.safetensors.\n"
     ]
    },
    {
     "name": "stderr",
     "output_type": "stream",
     "text": [
      "Epoch [28/30]: 100%|███████████████████████████████████| 391/391 [00:39<00:00,  9.88it/s, loss=1.22]"
     ]
    },
    {
     "name": "stdout",
     "output_type": "stream",
     "text": [
      "Epoch [28/30], Loss: 1.1092, Accuracy: 91.17%\n"
     ]
    },
    {
     "name": "stderr",
     "output_type": "stream",
     "text": [
      "\n"
     ]
    },
    {
     "name": "stdout",
     "output_type": "stream",
     "text": [
      "Test Accuracy: 70.80%\n",
      "Model checkpoint saved to ./model/efficientnet_v2_0.01_30_L_70.80_20241204_072141.safetensors.\n"
     ]
    },
    {
     "name": "stderr",
     "output_type": "stream",
     "text": [
      "Epoch [29/30]: 100%|███████████████████████████████████| 391/391 [00:39<00:00,  9.92it/s, loss=1.14]"
     ]
    },
    {
     "name": "stdout",
     "output_type": "stream",
     "text": [
      "Epoch [29/30], Loss: 1.0898, Accuracy: 91.78%\n"
     ]
    },
    {
     "name": "stderr",
     "output_type": "stream",
     "text": [
      "\n"
     ]
    },
    {
     "name": "stdout",
     "output_type": "stream",
     "text": [
      "Test Accuracy: 70.73%\n"
     ]
    },
    {
     "name": "stderr",
     "output_type": "stream",
     "text": [
      "Epoch [30/30]: 100%|███████████████████████████████████| 391/391 [00:39<00:00,  9.91it/s, loss=1.12]"
     ]
    },
    {
     "name": "stdout",
     "output_type": "stream",
     "text": [
      "Epoch [30/30], Loss: 1.0666, Accuracy: 92.70%\n"
     ]
    },
    {
     "name": "stderr",
     "output_type": "stream",
     "text": [
      "\n"
     ]
    },
    {
     "name": "stdout",
     "output_type": "stream",
     "text": [
      "Test Accuracy: 71.09%\n",
      "Model checkpoint saved to ./model/efficientnet_v2_0.01_30_L_71.09_20241204_072307.safetensors.\n"
     ]
    },
    {
     "data": {
      "image/png": "[encoded data removed]",
      "text/plain": [
       "<Figure size 1200x500 with 2 Axes>"
      ]
     },
     "metadata": {},
     "output_type": "display_data"
    },
    {
     "name": "stdout",
     "output_type": "stream",
     "text": [
      "Test Accuracy: 71.09%\n"
     ]
    },
    {
     "data": {
      "text/plain": [
       "71.09"
      ]
     },
     "execution_count": 90,
     "metadata": {},
     "output_type": "execute_result"
    }
   ],
   "source": [
    "# second pass with patched\n",
    "train(model, train_loader, criterion, optimizer, scheduler, num_epochs, ncols=ncols)\n",
    "evaluate(model, test_loader)"
   ]
  },
  {
   "cell_type": "code",
   "execution_count": null,
   "id": "96ddf0f0-f0cb-4263-a096-8006a4a2111c",
   "metadata": {},
   "outputs": [],
   "source": []
  },
  {
   "cell_type": "markdown",
   "id": "3ba7b491-406c-41b5-9168-64560d38830a",
   "metadata": {},
   "source": [
    "---\n",
    "## finals for submission"
   ]
  },
  {
   "cell_type": "code",
   "execution_count": 94,
   "id": "ad0ff7ca-8838-46f7-8c38-84d82ac8a6c2",
   "metadata": {},
   "outputs": [
    {
     "name": "stdout",
     "output_type": "stream",
     "text": [
      "Predictions saved to submission.csv\n"
     ]
    }
   ],
   "source": [
    "csv_path = 'test.csv'\n",
    "df = pd.read_csv(csv_path)\n",
    "\n",
    "test_images = []\n",
    "for _, row in df.iterrows():\n",
    "  pixel_data = row[[f'pixel_{i}' for i in range(1, 3073)]].values.astype(np.float32)\n",
    "  image = pixel_data.reshape(3, 32, 32)\n",
    "  image_tensor = torch.tensor(image)\n",
    "  test_images.append(image_tensor)\n",
    "\n",
    "test_images = torch.stack(test_images)\n",
    "\n",
    "# Predictions on custom test set\n",
    "model.eval()\n",
    "custom_preds = []\n",
    "with torch.no_grad():\n",
    "  test_images = test_images.to(device)\n",
    "  for i in range(0, len(test_images), batch_size):\n",
    "    batch_images = test_images[i : i + batch_size]\n",
    "    outputs = model(batch_images)\n",
    "    _, predicted = torch.max(outputs.data, 1)\n",
    "    custom_preds.extend(predicted.cpu().numpy())\n",
    "\n",
    "# Formatting predictions as required\n",
    "submission = pd.DataFrame({'ID': df['ID'], 'LABEL': custom_preds})\n",
    "submission.to_csv('submission.csv', index=False)\n",
    "print('Predictions saved to submission.csv')"
   ]
  },
  {
   "cell_type": "code",
   "execution_count": null,
   "id": "6b6ba7e8-258b-4f1a-94b9-d07657fb4fe3",
   "metadata": {},
   "outputs": [],
   "source": []
  }
 ],
 "metadata": {
  "kernelspec": {
   "display_name": "Python 3 (ipykernel)",
   "language": "python",
   "name": "python3"
  },
  "language_info": {
   "codemirror_mode": {
    "name": "ipython",
    "version": 3
   },
   "file_extension": ".py",
   "mimetype": "text/x-python",
   "name": "python",
   "nbconvert_exporter": "python",
   "pygments_lexer": "ipython3",
   "version": "3.12.6"
  }
 },
 "nbformat": 4,
 "nbformat_minor": 5
}
